{
 "cells": [
  {
   "cell_type": "code",
   "execution_count": 1,
   "id": "95811c88",
   "metadata": {},
   "outputs": [],
   "source": [
    "\n",
    "import os\n",
    "import torch\n",
    "import torch.nn as nn\n",
    "import torch.optim as optim\n",
    "from torch.utils.data import DataLoader\n",
    "from torchvision import transforms\n",
    "from sklearn.metrics import classification_report, precision_score, recall_score, f1_score, accuracy_score\n",
    "\n",
    "from models.model_torch import create_model\n",
    "from data.loader_torch import JetDataset, load_split_from_csv\n",
    "\n",
    "import matplotlib.pyplot as plt\n",
    "import numpy as np\n",
    "from tqdm import tqdm\n"
   ]
  },
  {
   "cell_type": "code",
   "execution_count": null,
   "id": "4688f4a2",
   "metadata": {},
   "outputs": [
    {
     "name": "stdout",
     "output_type": "stream",
     "text": [
      "[INFO] Detected dataset size: 1000\n",
      "[INFO] Saving all outputs to: training_output/EfficientNet_bs512_ep10_lr1e-04_ds1000\n"
     ]
    }
   ],
   "source": [
    "\n",
    "# === CONFIG ===\n",
    "model_tag = \"EfficientNet\"\n",
    "backbone = 'efficientnet'\n",
    "batch_size = 512\n",
    "epochs = 50\n",
    "learning_rate = 1e-4\n",
    "global_max = 121.79151153564453\n",
    "output_dir = 'training_output/'\n",
    "dataset_root_dir = \"/home/arsalan/Projects/110_JetscapeML/hm_jetscapeml_source/data/jet_ml_benchmark_config_01_to_09_alpha_0.2_0.3_0.4_q0_1.5_2.0_2.5_MMAT_MLBT_size_1000_balanced_unshuffled\"  # <-- CHANGE THIS\n",
    "import re\n",
    "# Extract dataset size from dataset_root string\n",
    "match = re.search(r\"size_(\\d+)\", dataset_root_dir)\n",
    "dataset_size = match.group(1) if match else \"unknown\"\n",
    "print(f\"[INFO] Detected dataset size: {dataset_size}\")\n",
    "\n",
    "# Build dynamic output directory\n",
    "run_tag = f\"{model_tag}_bs{batch_size}_ep{epochs}_lr{learning_rate:.0e}_ds{dataset_size}\"\n",
    "output_dir = os.path.join(output_dir, run_tag)\n",
    "\n",
    "os.makedirs(output_dir, exist_ok=True)\n",
    "print(f\"[INFO] Saving all outputs to: {output_dir}\")\n",
    "\n",
    "train_csv = os.path.join(dataset_root_dir, 'train_files.csv')\n",
    "val_csv = os.path.join(dataset_root_dir, 'val_files.csv')\n",
    "\n"
   ]
  },
  {
   "cell_type": "code",
   "execution_count": 3,
   "id": "8fcaf792",
   "metadata": {},
   "outputs": [
    {
     "name": "stdout",
     "output_type": "stream",
     "text": [
      "[INFO] Initial training summary saved at: training_output/EfficientNet_bs512_ep10_lr1e-04_ds1000/training_summary.json\n"
     ]
    }
   ],
   "source": [
    "import datetime, json\n",
    "\n",
    "# Initial summary structure\n",
    "training_summary = {\n",
    "    \"model_tag\": model_tag,\n",
    "    \"backbone\": backbone,\n",
    "    \"batch_size\": batch_size,\n",
    "    \"epochs\": epochs,\n",
    "    \"learning_rate\": learning_rate,\n",
    "    \"dataset_root\": dataset_root_dir,\n",
    "    \"global_max\": global_max,\n",
    "    \"start_time\": datetime.datetime.now().strftime(\"%Y-%m-%d %H:%M:%S\"),\n",
    "    \"status\": \"interrupted_or_incomplete\"\n",
    "}\n",
    "\n",
    "# Save the early config snapshot\n",
    "summary_path = os.path.join(output_dir, \"training_summary.json\")\n",
    "with open(summary_path, \"w\") as f:\n",
    "    json.dump(training_summary, f, indent=2)\n",
    "\n",
    "print(f\"[INFO] Initial training summary saved at: {summary_path}\")"
   ]
  },
  {
   "cell_type": "code",
   "execution_count": 4,
   "id": "83a1872f",
   "metadata": {},
   "outputs": [
    {
     "name": "stdout",
     "output_type": "stream",
     "text": [
      "Training samples: 796\n",
      "Validation samples: 96\n",
      "Length of training dataloader: 2\n",
      "Length of validation dataloader: 1\n"
     ]
    }
   ],
   "source": [
    "\n",
    "# Load splits from CSV\n",
    "train_list = load_split_from_csv(train_csv, dataset_root_dir)\n",
    "val_list = load_split_from_csv(val_csv, dataset_root_dir)\n",
    "\n",
    "train_dataset = JetDataset(train_list, global_max=global_max)\n",
    "val_dataset = JetDataset(val_list, global_max=global_max)\n",
    "\n",
    "train_loader = DataLoader(train_dataset, batch_size=batch_size, shuffle=True)\n",
    "val_loader = DataLoader(val_dataset, batch_size=batch_size, shuffle=False)\n",
    "\n",
    "print(f\"Training samples: {len(train_dataset)}\")\n",
    "print(f\"Validation samples: {len(val_dataset)}\")\n",
    "\n",
    "#show the length of the dataloaders\n",
    "print(f\"Length of training dataloader: {len(train_loader)}\")\n",
    "print(f\"Length of validation dataloader: {len(val_loader)}\")\n",
    "\n"
   ]
  },
  {
   "cell_type": "code",
   "execution_count": 5,
   "id": "2e838b09",
   "metadata": {},
   "outputs": [
    {
     "name": "stdout",
     "output_type": "stream",
     "text": [
      "Using device: cuda\n",
      "{'energy_loss_output': BCELoss(), 'alpha_output': CrossEntropyLoss(), 'q0_output': CrossEntropyLoss()}\n"
     ]
    }
   ],
   "source": [
    "\n",
    "device = torch.device(\"cuda\" if torch.cuda.is_available() else \"cpu\")\n",
    "print(f\"Using device: {device}\")\n",
    "\n",
    "model, optimizer = create_model(backbone=backbone, input_shape=(1, 32, 32), learning_rate=learning_rate)\n",
    "model = model.to(device)\n",
    "\n",
    "criterion = {\n",
    "    'energy_loss_output': nn.BCELoss(),\n",
    "    'alpha_output': nn.CrossEntropyLoss(),\n",
    "    'q0_output': nn.CrossEntropyLoss()\n",
    "}\n",
    "print(criterion)\n"
   ]
  },
  {
   "cell_type": "code",
   "execution_count": 6,
   "id": "af732c7c",
   "metadata": {},
   "outputs": [],
   "source": [
    "\n",
    "def train_one_epoch(loader, model, criterion, optimizer, device):\n",
    "    model.train()\n",
    "    running_loss = 0.0\n",
    "\n",
    "    for x, labels in tqdm(loader, desc=\"Training\", leave=False):\n",
    "        x = x.to(device)\n",
    "        for key in labels:\n",
    "            labels[key] = labels[key].to(device)\n",
    "\n",
    "        outputs = model(x)\n",
    "        loss = (\n",
    "            criterion['energy_loss_output'](outputs['energy_loss_output'].squeeze(), labels['energy_loss_output'].float().squeeze()) +\n",
    "            criterion['alpha_output'](outputs['alpha_output'], labels['alpha_output'].squeeze()) +\n",
    "            criterion['q0_output'](outputs['q0_output'], labels['q0_output'].squeeze())\n",
    "        )\n",
    "\n",
    "        optimizer.zero_grad()\n",
    "        loss.backward()\n",
    "        optimizer.step()\n",
    "        running_loss += loss.item()\n",
    "    \n",
    "    return running_loss / len(loader)\n",
    "\n",
    "def evaluate(loader, model, device):\n",
    "    model.eval()\n",
    "    y_true = {'energy': [], 'alpha': [], 'q0': []}\n",
    "    y_pred = {'energy': [], 'alpha': [], 'q0': []}\n",
    "    correct_all = 0\n",
    "    total = 0\n",
    "\n",
    "    with torch.no_grad():\n",
    "        for x, labels in loader:\n",
    "            x = x.to(device)\n",
    "            for key in labels:\n",
    "                labels[key] = labels[key].to(device)\n",
    "\n",
    "            outputs = model(x)\n",
    "\n",
    "            # Energy loss: binary thresholding\n",
    "            pred_energy = (outputs['energy_loss_output'] > 0.5).long().squeeze()\n",
    "            pred_alpha = torch.argmax(outputs['alpha_output'], dim=1)\n",
    "            pred_q0 = torch.argmax(outputs['q0_output'], dim=1)\n",
    "\n",
    "            gt_energy = labels['energy_loss_output'].squeeze()\n",
    "            gt_alpha = labels['alpha_output'].squeeze()\n",
    "            gt_q0 = labels['q0_output'].squeeze()\n",
    "\n",
    "            y_true['energy'].extend(labels['energy_loss_output'].squeeze().cpu().numpy())\n",
    "            y_true['alpha'].extend(labels['alpha_output'].squeeze().cpu().numpy())\n",
    "            y_true['q0'].extend(labels['q0_output'].squeeze().cpu().numpy())\n",
    "\n",
    "            y_pred['energy'].extend(pred_energy.cpu().numpy())\n",
    "            y_pred['alpha'].extend(pred_alpha.cpu().numpy())\n",
    "            y_pred['q0'].extend(pred_q0.cpu().numpy())\n",
    "\n",
    "            # Total accuracy = all 3 correct\n",
    "            correct_batch = ((pred_energy == gt_energy) &\n",
    "                             (pred_alpha == gt_alpha) &\n",
    "                             (pred_q0 == gt_q0)).sum().item()\n",
    "            correct_all += correct_batch\n",
    "            total += x.size(0)\n",
    "    # Compute individual accuracies\n",
    "    acc_total = correct_all / total\n",
    "\n",
    "    metrics = {}\n",
    "    for task in ['energy', 'alpha', 'q0']:\n",
    "        metrics[task] = {\n",
    "            'accuracy': accuracy_score(y_true[task], y_pred[task]),\n",
    "            'precision': precision_score(y_true[task], y_pred[task], average='macro'),\n",
    "            'recall': recall_score(y_true[task], y_pred[task], average='macro'),\n",
    "            'f1': f1_score(y_true[task], y_pred[task], average='macro')\n",
    "        }\n",
    "\n",
    "    return metrics, acc_total\n"
   ]
  },
  {
   "cell_type": "code",
   "execution_count": 7,
   "id": "a25c5825",
   "metadata": {},
   "outputs": [],
   "source": [
    "train_losses = []\n",
    "val_accs = []\n",
    "\n",
    "acc_energy_list = []\n",
    "acc_alpha_list = []\n",
    "acc_q0_list = []\n",
    "acc_total_list = []\n",
    "\n",
    "best_total_acc = 0.0\n",
    "best_metrics = {}\n",
    "best_epoch = 0\n",
    "\n",
    "all_epoch_metrics = []\n",
    "\n",
    "best_model_path = os.path.join(output_dir, f\"best_model.pth\")\n"
   ]
  },
  {
   "cell_type": "code",
   "execution_count": 8,
   "id": "e4845346",
   "metadata": {},
   "outputs": [
    {
     "name": "stderr",
     "output_type": "stream",
     "text": [
      "/home/arsalan/miniconda3/envs/pytorch/lib/python3.9/site-packages/sklearn/metrics/_classification.py:1565: UndefinedMetricWarning: Precision is ill-defined and being set to 0.0 in labels with no predicted samples. Use `zero_division` parameter to control this behavior.\n",
      "  _warn_prf(average, modifier, f\"{metric.capitalize()} is\", len(result))\n",
      "/home/arsalan/miniconda3/envs/pytorch/lib/python3.9/site-packages/sklearn/metrics/_classification.py:1565: UndefinedMetricWarning: Precision is ill-defined and being set to 0.0 in labels with no predicted samples. Use `zero_division` parameter to control this behavior.\n",
      "  _warn_prf(average, modifier, f\"{metric.capitalize()} is\", len(result))\n",
      "/home/arsalan/miniconda3/envs/pytorch/lib/python3.9/site-packages/sklearn/metrics/_classification.py:1565: UndefinedMetricWarning: Precision is ill-defined and being set to 0.0 in labels with no predicted samples. Use `zero_division` parameter to control this behavior.\n",
      "  _warn_prf(average, modifier, f\"{metric.capitalize()} is\", len(result))\n"
     ]
    },
    {
     "name": "stdout",
     "output_type": "stream",
     "text": [
      "Epoch 1/10 - Train Loss: 3.2294\n",
      "==========\n",
      "✅ Best model saved at epoch 1 with total accuracy: 0.0833\n",
      "✅ Best model saved with total accuracy: 0.0833\n",
      "[19:42:41] Epoch 1/10 - Train Loss: 3.2294\n"
     ]
    },
    {
     "name": "stderr",
     "output_type": "stream",
     "text": [
      "/home/arsalan/miniconda3/envs/pytorch/lib/python3.9/site-packages/sklearn/metrics/_classification.py:1565: UndefinedMetricWarning: Precision is ill-defined and being set to 0.0 in labels with no predicted samples. Use `zero_division` parameter to control this behavior.\n",
      "  _warn_prf(average, modifier, f\"{metric.capitalize()} is\", len(result))\n",
      "/home/arsalan/miniconda3/envs/pytorch/lib/python3.9/site-packages/sklearn/metrics/_classification.py:1565: UndefinedMetricWarning: Precision is ill-defined and being set to 0.0 in labels with no predicted samples. Use `zero_division` parameter to control this behavior.\n",
      "  _warn_prf(average, modifier, f\"{metric.capitalize()} is\", len(result))\n",
      "/home/arsalan/miniconda3/envs/pytorch/lib/python3.9/site-packages/sklearn/metrics/_classification.py:1565: UndefinedMetricWarning: Precision is ill-defined and being set to 0.0 in labels with no predicted samples. Use `zero_division` parameter to control this behavior.\n",
      "  _warn_prf(average, modifier, f\"{metric.capitalize()} is\", len(result))\n"
     ]
    },
    {
     "name": "stdout",
     "output_type": "stream",
     "text": [
      "Epoch 2/10 - Train Loss: 3.1831\n",
      "==========\n",
      "✅ Best model saved with total accuracy: 0.0833\n",
      "[19:42:41] Epoch 2/10 - Train Loss: 3.1831\n"
     ]
    },
    {
     "name": "stderr",
     "output_type": "stream",
     "text": [
      "/home/arsalan/miniconda3/envs/pytorch/lib/python3.9/site-packages/sklearn/metrics/_classification.py:1565: UndefinedMetricWarning: Precision is ill-defined and being set to 0.0 in labels with no predicted samples. Use `zero_division` parameter to control this behavior.\n",
      "  _warn_prf(average, modifier, f\"{metric.capitalize()} is\", len(result))\n",
      "/home/arsalan/miniconda3/envs/pytorch/lib/python3.9/site-packages/sklearn/metrics/_classification.py:1565: UndefinedMetricWarning: Precision is ill-defined and being set to 0.0 in labels with no predicted samples. Use `zero_division` parameter to control this behavior.\n",
      "  _warn_prf(average, modifier, f\"{metric.capitalize()} is\", len(result))\n",
      "/home/arsalan/miniconda3/envs/pytorch/lib/python3.9/site-packages/sklearn/metrics/_classification.py:1565: UndefinedMetricWarning: Precision is ill-defined and being set to 0.0 in labels with no predicted samples. Use `zero_division` parameter to control this behavior.\n",
      "  _warn_prf(average, modifier, f\"{metric.capitalize()} is\", len(result))\n"
     ]
    },
    {
     "name": "stdout",
     "output_type": "stream",
     "text": [
      "Epoch 3/10 - Train Loss: 3.1610\n",
      "==========\n",
      "✅ Best model saved with total accuracy: 0.0833\n",
      "[19:42:41] Epoch 3/10 - Train Loss: 3.1610\n"
     ]
    },
    {
     "name": "stderr",
     "output_type": "stream",
     "text": [
      "/home/arsalan/miniconda3/envs/pytorch/lib/python3.9/site-packages/sklearn/metrics/_classification.py:1565: UndefinedMetricWarning: Precision is ill-defined and being set to 0.0 in labels with no predicted samples. Use `zero_division` parameter to control this behavior.\n",
      "  _warn_prf(average, modifier, f\"{metric.capitalize()} is\", len(result))\n",
      "/home/arsalan/miniconda3/envs/pytorch/lib/python3.9/site-packages/sklearn/metrics/_classification.py:1565: UndefinedMetricWarning: Precision is ill-defined and being set to 0.0 in labels with no predicted samples. Use `zero_division` parameter to control this behavior.\n",
      "  _warn_prf(average, modifier, f\"{metric.capitalize()} is\", len(result))\n",
      "/home/arsalan/miniconda3/envs/pytorch/lib/python3.9/site-packages/sklearn/metrics/_classification.py:1565: UndefinedMetricWarning: Precision is ill-defined and being set to 0.0 in labels with no predicted samples. Use `zero_division` parameter to control this behavior.\n",
      "  _warn_prf(average, modifier, f\"{metric.capitalize()} is\", len(result))\n"
     ]
    },
    {
     "name": "stdout",
     "output_type": "stream",
     "text": [
      "Epoch 4/10 - Train Loss: 3.1591\n",
      "==========\n",
      "✅ Best model saved with total accuracy: 0.0833\n",
      "[19:42:42] Epoch 4/10 - Train Loss: 3.1591\n"
     ]
    },
    {
     "name": "stderr",
     "output_type": "stream",
     "text": [
      "/home/arsalan/miniconda3/envs/pytorch/lib/python3.9/site-packages/sklearn/metrics/_classification.py:1565: UndefinedMetricWarning: Precision is ill-defined and being set to 0.0 in labels with no predicted samples. Use `zero_division` parameter to control this behavior.\n",
      "  _warn_prf(average, modifier, f\"{metric.capitalize()} is\", len(result))\n",
      "/home/arsalan/miniconda3/envs/pytorch/lib/python3.9/site-packages/sklearn/metrics/_classification.py:1565: UndefinedMetricWarning: Precision is ill-defined and being set to 0.0 in labels with no predicted samples. Use `zero_division` parameter to control this behavior.\n",
      "  _warn_prf(average, modifier, f\"{metric.capitalize()} is\", len(result))\n",
      "/home/arsalan/miniconda3/envs/pytorch/lib/python3.9/site-packages/sklearn/metrics/_classification.py:1565: UndefinedMetricWarning: Precision is ill-defined and being set to 0.0 in labels with no predicted samples. Use `zero_division` parameter to control this behavior.\n",
      "  _warn_prf(average, modifier, f\"{metric.capitalize()} is\", len(result))\n"
     ]
    },
    {
     "name": "stdout",
     "output_type": "stream",
     "text": [
      "Epoch 5/10 - Train Loss: 3.1328\n",
      "==========\n",
      "✅ Best model saved with total accuracy: 0.0833\n",
      "[19:42:42] Epoch 5/10 - Train Loss: 3.1328\n"
     ]
    },
    {
     "name": "stderr",
     "output_type": "stream",
     "text": [
      "/home/arsalan/miniconda3/envs/pytorch/lib/python3.9/site-packages/sklearn/metrics/_classification.py:1565: UndefinedMetricWarning: Precision is ill-defined and being set to 0.0 in labels with no predicted samples. Use `zero_division` parameter to control this behavior.\n",
      "  _warn_prf(average, modifier, f\"{metric.capitalize()} is\", len(result))\n",
      "/home/arsalan/miniconda3/envs/pytorch/lib/python3.9/site-packages/sklearn/metrics/_classification.py:1565: UndefinedMetricWarning: Precision is ill-defined and being set to 0.0 in labels with no predicted samples. Use `zero_division` parameter to control this behavior.\n",
      "  _warn_prf(average, modifier, f\"{metric.capitalize()} is\", len(result))\n",
      "/home/arsalan/miniconda3/envs/pytorch/lib/python3.9/site-packages/sklearn/metrics/_classification.py:1565: UndefinedMetricWarning: Precision is ill-defined and being set to 0.0 in labels with no predicted samples. Use `zero_division` parameter to control this behavior.\n",
      "  _warn_prf(average, modifier, f\"{metric.capitalize()} is\", len(result))\n"
     ]
    },
    {
     "name": "stdout",
     "output_type": "stream",
     "text": [
      "Epoch 6/10 - Train Loss: 3.1121\n",
      "==========\n",
      "✅ Best model saved with total accuracy: 0.0833\n",
      "[19:42:42] Epoch 6/10 - Train Loss: 3.1121\n"
     ]
    },
    {
     "name": "stderr",
     "output_type": "stream",
     "text": [
      "/home/arsalan/miniconda3/envs/pytorch/lib/python3.9/site-packages/sklearn/metrics/_classification.py:1565: UndefinedMetricWarning: Precision is ill-defined and being set to 0.0 in labels with no predicted samples. Use `zero_division` parameter to control this behavior.\n",
      "  _warn_prf(average, modifier, f\"{metric.capitalize()} is\", len(result))\n",
      "/home/arsalan/miniconda3/envs/pytorch/lib/python3.9/site-packages/sklearn/metrics/_classification.py:1565: UndefinedMetricWarning: Precision is ill-defined and being set to 0.0 in labels with no predicted samples. Use `zero_division` parameter to control this behavior.\n",
      "  _warn_prf(average, modifier, f\"{metric.capitalize()} is\", len(result))\n",
      "/home/arsalan/miniconda3/envs/pytorch/lib/python3.9/site-packages/sklearn/metrics/_classification.py:1565: UndefinedMetricWarning: Precision is ill-defined and being set to 0.0 in labels with no predicted samples. Use `zero_division` parameter to control this behavior.\n",
      "  _warn_prf(average, modifier, f\"{metric.capitalize()} is\", len(result))\n"
     ]
    },
    {
     "name": "stdout",
     "output_type": "stream",
     "text": [
      "Epoch 7/10 - Train Loss: 3.0996\n",
      "==========\n",
      "✅ Best model saved with total accuracy: 0.0833\n",
      "[19:42:42] Epoch 7/10 - Train Loss: 3.0996\n"
     ]
    },
    {
     "name": "stderr",
     "output_type": "stream",
     "text": [
      "/home/arsalan/miniconda3/envs/pytorch/lib/python3.9/site-packages/sklearn/metrics/_classification.py:1565: UndefinedMetricWarning: Precision is ill-defined and being set to 0.0 in labels with no predicted samples. Use `zero_division` parameter to control this behavior.\n",
      "  _warn_prf(average, modifier, f\"{metric.capitalize()} is\", len(result))\n",
      "/home/arsalan/miniconda3/envs/pytorch/lib/python3.9/site-packages/sklearn/metrics/_classification.py:1565: UndefinedMetricWarning: Precision is ill-defined and being set to 0.0 in labels with no predicted samples. Use `zero_division` parameter to control this behavior.\n",
      "  _warn_prf(average, modifier, f\"{metric.capitalize()} is\", len(result))\n",
      "/home/arsalan/miniconda3/envs/pytorch/lib/python3.9/site-packages/sklearn/metrics/_classification.py:1565: UndefinedMetricWarning: Precision is ill-defined and being set to 0.0 in labels with no predicted samples. Use `zero_division` parameter to control this behavior.\n",
      "  _warn_prf(average, modifier, f\"{metric.capitalize()} is\", len(result))\n"
     ]
    },
    {
     "name": "stdout",
     "output_type": "stream",
     "text": [
      "Epoch 8/10 - Train Loss: 3.0817\n",
      "==========\n",
      "✅ Best model saved with total accuracy: 0.0833\n",
      "[19:42:42] Epoch 8/10 - Train Loss: 3.0817\n"
     ]
    },
    {
     "name": "stderr",
     "output_type": "stream",
     "text": [
      "/home/arsalan/miniconda3/envs/pytorch/lib/python3.9/site-packages/sklearn/metrics/_classification.py:1565: UndefinedMetricWarning: Precision is ill-defined and being set to 0.0 in labels with no predicted samples. Use `zero_division` parameter to control this behavior.\n",
      "  _warn_prf(average, modifier, f\"{metric.capitalize()} is\", len(result))\n",
      "/home/arsalan/miniconda3/envs/pytorch/lib/python3.9/site-packages/sklearn/metrics/_classification.py:1565: UndefinedMetricWarning: Precision is ill-defined and being set to 0.0 in labels with no predicted samples. Use `zero_division` parameter to control this behavior.\n",
      "  _warn_prf(average, modifier, f\"{metric.capitalize()} is\", len(result))\n",
      "/home/arsalan/miniconda3/envs/pytorch/lib/python3.9/site-packages/sklearn/metrics/_classification.py:1565: UndefinedMetricWarning: Precision is ill-defined and being set to 0.0 in labels with no predicted samples. Use `zero_division` parameter to control this behavior.\n",
      "  _warn_prf(average, modifier, f\"{metric.capitalize()} is\", len(result))\n"
     ]
    },
    {
     "name": "stdout",
     "output_type": "stream",
     "text": [
      "Epoch 9/10 - Train Loss: 3.0658\n",
      "==========\n",
      "✅ Best model saved with total accuracy: 0.0833\n",
      "[19:42:42] Epoch 9/10 - Train Loss: 3.0658\n"
     ]
    },
    {
     "name": "stderr",
     "output_type": "stream",
     "text": [
      "                                                       "
     ]
    },
    {
     "name": "stdout",
     "output_type": "stream",
     "text": [
      "Epoch 10/10 - Train Loss: 3.0610\n",
      "==========\n",
      "✅ Best model saved with total accuracy: 0.0833\n",
      "[19:42:42] Epoch 10/10 - Train Loss: 3.0610\n"
     ]
    },
    {
     "name": "stderr",
     "output_type": "stream",
     "text": [
      "/home/arsalan/miniconda3/envs/pytorch/lib/python3.9/site-packages/sklearn/metrics/_classification.py:1565: UndefinedMetricWarning: Precision is ill-defined and being set to 0.0 in labels with no predicted samples. Use `zero_division` parameter to control this behavior.\n",
      "  _warn_prf(average, modifier, f\"{metric.capitalize()} is\", len(result))\n",
      "/home/arsalan/miniconda3/envs/pytorch/lib/python3.9/site-packages/sklearn/metrics/_classification.py:1565: UndefinedMetricWarning: Precision is ill-defined and being set to 0.0 in labels with no predicted samples. Use `zero_division` parameter to control this behavior.\n",
      "  _warn_prf(average, modifier, f\"{metric.capitalize()} is\", len(result))\n",
      "/home/arsalan/miniconda3/envs/pytorch/lib/python3.9/site-packages/sklearn/metrics/_classification.py:1565: UndefinedMetricWarning: Precision is ill-defined and being set to 0.0 in labels with no predicted samples. Use `zero_division` parameter to control this behavior.\n",
      "  _warn_prf(average, modifier, f\"{metric.capitalize()} is\", len(result))\n"
     ]
    }
   ],
   "source": [
    "\n",
    "for epoch in range(epochs):\n",
    "    train_loss = train_one_epoch(train_loader, model, criterion, optimizer, device)\n",
    "    train_losses.append(train_loss)\n",
    "    print(f\"Epoch {epoch+1}/{epochs} - Train Loss: {train_loss:.4f}\")\n",
    "\n",
    "    metrics, acc_total = evaluate(val_loader, model, device)\n",
    "\n",
    "    acc_energy_list.append(metrics['energy']['accuracy'])\n",
    "    acc_alpha_list.append(metrics['alpha']['accuracy'])\n",
    "    acc_q0_list.append(metrics['q0']['accuracy'])\n",
    "    acc_total_list.append(acc_total)\n",
    "    \n",
    "    import datetime\n",
    "    print(\"=\"*epochs)\n",
    "    # print(f\"Epoch {epoch+1}: αs Acc = {acc_alpha:.4f}, Q0 Acc = {acc_q0:.4f}, Total Acc = {acc_total:.4f}\")\n",
    "    if acc_total > best_total_acc:\n",
    "        best_total_acc = acc_total\n",
    "        best_metrics = metrics\n",
    "        best_epoch = epoch + 1\n",
    "\n",
    "        torch.save({\n",
    "            'epoch': best_epoch,\n",
    "            'model_state_dict': model.state_dict(),\n",
    "            'optimizer_state_dict': optimizer.state_dict(),\n",
    "            'metrics': best_metrics,\n",
    "            'acc_total': acc_total,\n",
    "            'acc_total': best_total_acc,\n",
    "            'backbone': backbone,\n",
    "            'input_shape': (1, 32, 32),\n",
    "        }, best_model_path)\n",
    "\n",
    "        print(f\"✅ Best model saved at epoch {best_epoch} with total accuracy: {acc_total:.4f}\")\n",
    "        \n",
    "    print(f\"✅ Best model saved with total accuracy: {acc_total:.4f}\")\n",
    "    print(f\"[{datetime.datetime.now().strftime('%H:%M:%S')}] Epoch {epoch+1}/{epochs} - Train Loss: {train_loss:.4f}\")\n",
    "    epoch_record = {\n",
    "        'epoch': epoch + 1,\n",
    "        'total_accuracy': acc_total,\n",
    "        'energy': metrics['energy'],\n",
    "        'alpha': metrics['alpha'],\n",
    "        'q0': metrics['q0']\n",
    "    }\n",
    "    all_epoch_metrics.append(epoch_record)\n",
    "    import json\n",
    "    with open(os.path.join(output_dir, \"epoch_metrics.json\"), \"w\") as f:\n",
    "        json.dump(all_epoch_metrics, f, indent=2)\n",
    "    import pandas as pd\n",
    "\n",
    "    df = pd.DataFrame([\n",
    "        {\n",
    "            'epoch': m['epoch'],\n",
    "            'total_acc': m['total_accuracy'],\n",
    "            'energy_acc': m['energy']['accuracy'],\n",
    "            'energy_prec': m['energy']['precision'],\n",
    "            'energy_rec': m['energy']['recall'],\n",
    "            'energy_f1': m['energy']['f1'],\n",
    "            'alpha_acc': m['alpha']['accuracy'],\n",
    "            'alpha_prec': m['alpha']['precision'],\n",
    "            'alpha_rec': m['alpha']['recall'],\n",
    "            'alpha_f1': m['alpha']['f1'],\n",
    "            'q0_acc': m['q0']['accuracy'],\n",
    "            'q0_prec': m['q0']['precision'],\n",
    "            'q0_rec': m['q0']['recall'],\n",
    "            'q0_f1': m['q0']['f1'],\n",
    "        }\n",
    "        for m in all_epoch_metrics\n",
    "    ])\n",
    "\n",
    "    df.to_csv(os.path.join(output_dir, \"epoch_metrics.csv\"), index=False)"
   ]
  },
  {
   "cell_type": "code",
   "execution_count": 9,
   "id": "9035c401",
   "metadata": {},
   "outputs": [
    {
     "name": "stdout",
     "output_type": "stream",
     "text": [
      "✅ Final training summary updated and saved to: training_output/EfficientNet_bs512_ep10_lr1e-04_ds1000/training_summary.json\n"
     ]
    }
   ],
   "source": [
    "# Update and finalize the training summary\n",
    "training_summary.update({\n",
    "    \"best_epoch\": best_epoch,\n",
    "    \"best_total_accuracy\": best_total_acc,\n",
    "    \"end_time\": datetime.datetime.now().strftime(\"%Y-%m-%d %H:%M:%S\"),\n",
    "    \"status\": \"completed\",\n",
    "    \"best_model_path\": os.path.abspath(os.path.join(output_dir, \"best_model.pth\")),\n",
    "    \"metrics_file\": os.path.abspath(os.path.join(output_dir, \"best_model_metrics.json\")),\n",
    "    \"epoch_metrics_csv\": os.path.abspath(os.path.join(output_dir, \"epoch_metrics.csv\")),\n",
    "    \"epoch_metrics_json\": os.path.abspath(os.path.join(output_dir, \"epoch_metrics.json\"))\n",
    "})\n",
    "\n",
    "# Overwrite with final summary\n",
    "with open(summary_path, \"w\") as f:\n",
    "    json.dump(training_summary, f, indent=2)\n",
    "\n",
    "print(f\"✅ Final training summary updated and saved to: {summary_path}\")"
   ]
  },
  {
   "cell_type": "code",
   "execution_count": 10,
   "id": "be34634c",
   "metadata": {},
   "outputs": [
    {
     "name": "stdout",
     "output_type": "stream",
     "text": [
      "\n",
      "🏁 Best Model @ Epoch 1\n",
      "Total Accuracy: 0.0833\n",
      "\n",
      "🔹 ENERGY Task\n",
      "  Accuracy : 0.7500\n",
      "  Precision: 0.3750\n",
      "  Recall   : 0.5000\n",
      "  F1-Score : 0.4286\n",
      "\n",
      "🔹 ALPHA Task\n",
      "  Accuracy : 0.3333\n",
      "  Precision: 0.1111\n",
      "  Recall   : 0.3333\n",
      "  F1-Score : 0.1667\n",
      "\n",
      "🔹 Q0 Task\n",
      "  Accuracy : 0.2500\n",
      "  Precision: 0.0625\n",
      "  Recall   : 0.2500\n",
      "  F1-Score : 0.1000\n",
      "Saved to: training_output/EfficientNet_bs512_ep10_lr1e-04_ds1000/best_model.pth\n"
     ]
    }
   ],
   "source": [
    "print(f\"\\n🏁 Best Model @ Epoch {best_epoch}\")\n",
    "print(f\"Total Accuracy: {best_total_acc:.4f}\")\n",
    "for task in ['energy', 'alpha', 'q0']:\n",
    "    print(f\"\\n🔹 {task.upper()} Task\")\n",
    "    print(f\"  Accuracy : {best_metrics[task]['accuracy']:.4f}\")\n",
    "    print(f\"  Precision: {best_metrics[task]['precision']:.4f}\")\n",
    "    print(f\"  Recall   : {best_metrics[task]['recall']:.4f}\")\n",
    "    print(f\"  F1-Score : {best_metrics[task]['f1']:.4f}\")\n",
    "print(f\"Saved to: {best_model_path}\")"
   ]
  },
  {
   "cell_type": "code",
   "execution_count": 11,
   "id": "b8d6941c",
   "metadata": {},
   "outputs": [
    {
     "name": "stdout",
     "output_type": "stream",
     "text": [
      "📉 Loss plot saved as:\n",
      "  - training_output/EfficientNet_bs512_ep10_lr1e-04_ds1000/loss_plot.png\n",
      "  - training_output/EfficientNet_bs512_ep10_lr1e-04_ds1000/loss_plot.pdf\n"
     ]
    },
    {
     "data": {
      "image/png": "[encoded data removed]",
      "text/plain": [
       "<Figure size 640x480 with 1 Axes>"
      ]
     },
     "metadata": {},
     "output_type": "display_data"
    }
   ],
   "source": [
    "plt.plot(train_losses, label=\"Train Loss\")\n",
    "plt.xlabel(\"Epoch\")\n",
    "plt.ylabel(\"Loss\")\n",
    "plt.legend()\n",
    "plt.grid()\n",
    "\n",
    "# Save loss plot\n",
    "loss_path_png = os.path.join(output_dir, \"loss_plot.png\")\n",
    "loss_path_pdf = os.path.join(output_dir, \"loss_plot.pdf\")\n",
    "\n",
    "plt.savefig(loss_path_png, dpi=300, bbox_inches='tight')\n",
    "plt.savefig(loss_path_pdf, bbox_inches='tight')\n",
    "\n",
    "print(f\"📉 Loss plot saved as:\\n  - {loss_path_png}\\n  - {loss_path_pdf}\")\n",
    "\n",
    "plt.show()"
   ]
  },
  {
   "cell_type": "code",
   "execution_count": 12,
   "id": "ea9b42ec",
   "metadata": {},
   "outputs": [
    {
     "name": "stdout",
     "output_type": "stream",
     "text": [
      "📊 Validation accuracy plot saved as:\n",
      "  - training_output/EfficientNet_bs512_ep10_lr1e-04_ds1000/val_accuracy_plot.png\n",
      "  - training_output/EfficientNet_bs512_ep10_lr1e-04_ds1000/val_accuracy_plot.pdf\n"
     ]
    },
    {
     "data": {
      "image/png": "[encoded data removed]",
      "text/plain": [
       "<Figure size 1000x600 with 1 Axes>"
      ]
     },
     "metadata": {},
     "output_type": "display_data"
    }
   ],
   "source": [
    "plt.figure(figsize=(10, 6))\n",
    "\n",
    "plt.plot(acc_energy_list, label='Energy Loss Accuracy')\n",
    "plt.plot(acc_alpha_list, label='αₛ Accuracy')\n",
    "plt.plot(acc_q0_list, label='Q₀ Accuracy')\n",
    "plt.plot(acc_total_list, label='Total Accuracy (All 3 correct)', linestyle='--', linewidth=2)\n",
    "\n",
    "plt.title(\"Validation Accuracy per Task Over Epochs\")\n",
    "plt.xlabel(\"Epoch\")\n",
    "plt.ylabel(\"Accuracy\")\n",
    "plt.ylim(0, 1.05)\n",
    "plt.grid(True)\n",
    "plt.legend(loc='lower right')\n",
    "plt.tight_layout()\n",
    "\n",
    "# Save accuracy plot\n",
    "fig_path_png = os.path.join(output_dir, \"val_accuracy_plot.png\")\n",
    "fig_path_pdf = os.path.join(output_dir, \"val_accuracy_plot.pdf\")\n",
    "\n",
    "plt.savefig(fig_path_png, dpi=300, bbox_inches='tight')\n",
    "plt.savefig(fig_path_pdf, bbox_inches='tight')\n",
    "\n",
    "print(f\"📊 Validation accuracy plot saved as:\\n  - {fig_path_png}\\n  - {fig_path_pdf}\")\n",
    "\n",
    "plt.show()"
   ]
  },
  {
   "cell_type": "code",
   "execution_count": 13,
   "id": "2aa83f90",
   "metadata": {},
   "outputs": [
    {
     "name": "stderr",
     "output_type": "stream",
     "text": [
      "/tmp/ipykernel_113235/98680750.py:5: FutureWarning: You are using `torch.load` with `weights_only=False` (the current default value), which uses the default pickle module implicitly. It is possible to construct malicious pickle data which will execute arbitrary code during unpickling (See https://github.com/pytorch/pytorch/blob/main/SECURITY.md#untrusted-models for more details). In a future release, the default value for `weights_only` will be flipped to `True`. This limits the functions that could be executed during unpickling. Arbitrary objects will no longer be allowed to be loaded via this mode unless they are explicitly allowlisted by the user via `torch.serialization.add_safe_globals`. We recommend you start setting `weights_only=True` for any use case where you don't have full control of the loaded file. Please open an issue on GitHub for any issues related to this experimental feature.\n",
      "  checkpoint = torch.load(best_model_path\n"
     ]
    },
    {
     "name": "stdout",
     "output_type": "stream",
     "text": [
      "✅ Model loaded from epoch 1 with Total Accuracy: 0.0833\n"
     ]
    }
   ],
   "source": [
    "import torch\n",
    "from models.model_torch import create_model\n",
    "\n",
    "# Load checkpoint\n",
    "checkpoint = torch.load(best_model_path\n",
    ", map_location=torch.device('cpu'))\n",
    "\n",
    "# Recreate model using saved params\n",
    "model, _ = create_model(\n",
    "    backbone=checkpoint['backbone'],\n",
    "    input_shape=checkpoint['input_shape'],\n",
    "    learning_rate=1e-4  # not used when reloading\n",
    ")\n",
    "model.load_state_dict(checkpoint['model_state_dict'])\n",
    "model.eval()\n",
    "\n",
    "print(f\"✅ Model loaded from epoch {checkpoint['epoch']} with Total Accuracy: {checkpoint['acc_total']:.4f}\")\n"
   ]
  },
  {
   "cell_type": "code",
   "execution_count": 14,
   "id": "3df3117f",
   "metadata": {},
   "outputs": [],
   "source": [
    "import json\n",
    "with open(os.path.join(output_dir, \"best_model_metrics.json\")\n",
    ", \"w\") as f:\n",
    "    json.dump(checkpoint['metrics'], f, indent=2)"
   ]
  }
 ],
 "metadata": {
  "kernelspec": {
   "display_name": "pytorch",
   "language": "python",
   "name": "python3"
  },
  "language_info": {
   "codemirror_mode": {
    "name": "ipython",
    "version": 3
   },
   "file_extension": ".py",
   "mimetype": "text/x-python",
   "name": "python",
   "nbconvert_exporter": "python",
   "pygments_lexer": "ipython3",
   "version": "3.9.21"
  }
 },
 "nbformat": 4,
 "nbformat_minor": 5
}
