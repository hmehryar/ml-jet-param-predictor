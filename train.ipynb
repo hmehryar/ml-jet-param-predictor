{
 "cells": [
  {
   "cell_type": "code",
   "execution_count": 1,
   "metadata": {},
   "outputs": [],
   "source": [
    "import os\n",
    "import torch\n",
    "import torch.nn as nn\n",
    "import json\n",
    "\n",
    "from config import get_config\n",
    "from train_utils.gpu_utils import get_device_summary\n",
    "from data.loader import get_dataloaders\n",
    "from models.model import create_model\n",
    "from train_utils.resume import init_resume_state\n",
    "from train_utils.resume import fill_trackers_from_history\n",
    "from train_utils.training_loop import run_training_loop\n",
    "from train_utils.scheduler_utils import create_scheduler\n",
    "from train_utils.training_summary import finalize_training_summary\n",
    "from train_utils.training_summary import print_best_model_summary\n",
    "from train_utils.plot_metrics import plot_train_val_metrics\n",
    "from train_utils.plot_metrics import plot_loss_accuracy\n",
    "from train_utils.plot_metrics import plot_confusion_matrices\n"
   ]
  },
  {
   "cell_type": "code",
   "execution_count": null,
   "metadata": {},
   "outputs": [
    {
     "name": "stdout",
     "output_type": "stream",
     "text": [
      "[INFO] Config Path: /home/arsalan/wsu-grid/ml-jet-param-predictor/experiments/exp_mamaba_vit_stack/config/hybrid_mambaout_base_plus_rw_ViT_tiny_patch16_224_bs64_ep1_lr1e-04_ds1008_g500_sched-RLRP.yml\n",
      "[INFO] Detected native Ubuntu host: DS044955\n",
      "[INFO] Using dataset root: /home/arsalan/Projects/110_JetscapeML/hm_jetscapeml_source/data/jet_ml_benchmark_config_01_to_09_alpha_0.2_0.3_0.4_q0_1.5_2.0_2.5_MMAT_MLBT_size_7200000_balanced_unshuffled\n",
      "[INFO] Using dataset_size from config: 1008\n",
      "{\n",
      "  \"model_tag\": \"mambaout_base_plus_rw_ViT_tiny_patch16_224_in1k_g500\",\n",
      "  \"backbone\": [\n",
      "    \"mambaout_base_plus_rw\",\n",
      "    \"vit_tiny_patch16_224\"\n",
      "  ],\n",
      "  \"batch_size\": 64,\n",
      "  \"epochs\": 1,\n",
      "  \"learning_rate\": 0.0001,\n",
      "  \"patience\": 12,\n",
      "  \"input_shape\": [\n",
      "    1,\n",
      "    32,\n",
      "    32\n",
      "  ],\n",
      "  \"global_max\": 121.79151153564453,\n",
      "  \"dataset_root_dir\": \"/home/arsalan/Projects/110_JetscapeML/hm_jetscapeml_source/data/jet_ml_benchmark_config_01_to_09_alpha_0.2_0.3_0.4_q0_1.5_2.0_2.5_MMAT_MLBT_size_7200000_balanced_unshuffled\",\n",
      "  \"train_csv\": \"/home/arsalan/Projects/110_JetscapeML/hm_jetscapeml_source/data/jet_ml_benchmark_config_01_to_09_alpha_0.2_0.3_0.4_q0_1.5_2.0_2.5_MMAT_MLBT_size_7200000_balanced_unshuffled/file_labels_aggregated_ds1008_g500_train.csv\",\n",
      "  \"val_csv\": \"/home/arsalan/Projects/110_JetscapeML/hm_jetscapeml_source/data/jet_ml_benchmark_config_01_to_09_alpha_0.2_0.3_0.4_q0_1.5_2.0_2.5_MMAT_MLBT_size_7200000_balanced_unshuffled/file_labels_aggregated_ds1008_g500_val.csv\",\n",
      "  \"test_csv\": \"/home/arsalan/Projects/110_JetscapeML/hm_jetscapeml_source/data/jet_ml_benchmark_config_01_to_09_alpha_0.2_0.3_0.4_q0_1.5_2.0_2.5_MMAT_MLBT_size_7200000_balanced_unshuffled/file_labels_aggregated_ds1008_g500_test.csv\",\n",
      "  \"output_dir\": \"training_output/mambaout_base_plus_rw_ViT_tiny_patch16_224_in1k_g500_bs64_ep1_lr1e-04_ds1008_g500_sched_ReduceLROnPlateau\",\n",
      "  \"group_size\": 500,\n",
      "  \"scheduler\": {\n",
      "    \"type\": \"ReduceLROnPlateau\",\n",
      "    \"mode\": \"max\",\n",
      "    \"factor\": 0.5,\n",
      "    \"patience\": 4,\n",
      "    \"verbose\": true\n",
      "  },\n",
      "  \"dataset_size\": 1008\n",
      "}\n"
     ]
    }
   ],
   "source": [
    "# cfg=get_config(config_path=\"config/convnext_fb_in22k_ft_in1k_bs512_ep50_lr1e-04_ds1000.yml\")\n",
    "# cfg=get_config(config_path=\"config/convnext_fb_in1k_bs512_ep50_lr1e-04_ds1000.yml\")\n",
    "# cfg=get_config(config_path=\"config/convnext_gaussian_bs512_ep50_lr1e-04_ds1000.yml\")\n",
    "# cfg=get_config(config_path=\"config/efficientnet_bs512_ep50_lr1e-01_ds1000_sched-RLRP.yml\")\n",
    "# cfg=get_config(config_path=\"config/vit_\" \\\n",
    "# \"bs512_ep50_lr1e-04_ds1000.yml\")\n",
    "# cfg=get_config(config_path=\"config/mambaout_base_plus_rw_bs32_ep50_lr1e-04_ds1000-g1.yml\")\n",
    "# cfg=get_config(config_path=\"config/mambaout_base_plus_rw_bs16_ep50_lr1e-04_ds1008_g500_sched-RLRP.yml\")\n",
    "\n",
    "from experiments.exp_mamaba_vit_stack.models.hybrid_mamba_vit import create_model\n",
    "# cfg=get_config(config_path=\"/home/arsalan/wsu-grid/ml-jet-param-predictor/\" \\\n",
    "# \"experiments/exp_mamaba_vit_stack/config/\" \\\n",
    "# \"hybrid_mambaout_base_plus_rw_ViT_tiny_patch16_224_bs64_ep1_lr1e-04_ds1008_g500_sched-RLRP.yml\")\n",
    "cfg=get_config()\n",
    "print(json.dumps(vars(cfg), indent=2))"
   ]
  },
  {
   "cell_type": "code",
   "execution_count": 4,
   "metadata": {},
   "outputs": [
    {
     "name": "stdout",
     "output_type": "stream",
     "text": [
      "[INFO] Saving all outputs to: training_output/mambaout_base_plus_rw_ViT_tiny_patch16_224_in1k_g500_bs64_ep1_lr1e-04_ds1008_g500_sched_ReduceLROnPlateau\n"
     ]
    }
   ],
   "source": [
    "os.makedirs(cfg.output_dir, exist_ok=True)\n",
    "print(f\"[INFO] Saving all outputs to: {cfg.output_dir}\")"
   ]
  },
  {
   "cell_type": "code",
   "execution_count": 5,
   "metadata": {},
   "outputs": [
    {
     "name": "stdout",
     "output_type": "stream",
     "text": [
      "=== NVIDIA-SMI ===\n",
      "Wed Aug  6 16:26:20 2025       \n",
      "+---------------------------------------------------------------------------------------+\n",
      "| NVIDIA-SMI 535.247.01             Driver Version: 535.247.01   CUDA Version: 12.2     |\n",
      "|-----------------------------------------+----------------------+----------------------+\n",
      "| GPU  Name                 Persistence-M | Bus-Id        Disp.A | Volatile Uncorr. ECC |\n",
      "| Fan  Temp   Perf          Pwr:Usage/Cap |         Memory-Usage | GPU-Util  Compute M. |\n",
      "|                                         |                      |               MIG M. |\n",
      "|=========================================+======================+======================|\n",
      "|   0  NVIDIA GeForce RTX 3070        Off | 00000000:01:00.0  On |                  N/A |\n",
      "| 30%   38C    P0              45W / 220W |    544MiB /  8192MiB |     22%      Default |\n",
      "|                                         |                      |                  N/A |\n",
      "+-----------------------------------------+----------------------+----------------------+\n",
      "                                                                                         \n",
      "+---------------------------------------------------------------------------------------+\n",
      "| Processes:                                                                            |\n",
      "|  GPU   GI   CI        PID   Type   Process name                            GPU Memory |\n",
      "|        ID   ID                                                             Usage      |\n",
      "|=======================================================================================|\n",
      "|    0   N/A  N/A      2302      G   /usr/lib/xorg/Xorg                          221MiB |\n",
      "|    0   N/A  N/A      2476      G   /usr/bin/gnome-shell                         72MiB |\n",
      "|    0   N/A  N/A     24231      G   ...erProcess --variations-seed-version       20MiB |\n",
      "|    0   N/A  N/A     38953      G   ...seed-version=20250805-050045.273000       26MiB |\n",
      "|    0   N/A  N/A     40222      G   /proc/self/exe                              165MiB |\n",
      "+---------------------------------------------------------------------------------------+\n",
      "\n",
      "[INFO] PyTorch version:       2.5.1\n",
      "[INFO] Using device: cuda\n",
      "[INFO] CUDA available:        True\n",
      "[INFO] CUDA toolkit version:  12.1\n",
      "[INFO] Device count:          1\n",
      "[INFO] Number of CUDA devices: 1\n",
      "  - CUDA:0 — NVIDIA GeForce RTX 3070\n"
     ]
    }
   ],
   "source": [
    "device= get_device_summary()"
   ]
  },
  {
   "cell_type": "code",
   "execution_count": 6,
   "metadata": {},
   "outputs": [
    {
     "name": "stdout",
     "output_type": "stream",
     "text": [
      "[INFO] Training samples: 806\n",
      "[INFO] Validation samples: 101\n",
      "[INFO] Test samples: 101\n",
      "[INFO] Length of training dataloader: 13\n",
      "[INFO] Length of validation dataloader: 2\n",
      "[INFO] Length of test dataloader: 2\n"
     ]
    }
   ],
   "source": [
    "# Data\n",
    "train_loader, val_loader, test_loader = get_dataloaders(cfg, device=device)"
   ]
  },
  {
   "cell_type": "code",
   "execution_count": 7,
   "metadata": {},
   "outputs": [
    {
     "name": "stdout",
     "output_type": "stream",
     "text": [
      "Using Hybrid Mamba ➝ ViT model: mambaout_base_plus_rw → vit_tiny_patch16_224\n"
     ]
    },
    {
     "data": {
      "text/plain": [
       "MambaToViTClassifier(\n",
       "  (input_proj): Conv2d(1, 3, kernel_size=(1, 1), stride=(1, 1))\n",
       "  (mamba): FeatureListNet(\n",
       "    (stem): Stem(\n",
       "      (conv1): Conv2d(3, 64, kernel_size=(3, 3), stride=(2, 2), padding=(1, 1))\n",
       "      (act): SiLU()\n",
       "      (conv2): Conv2d(64, 128, kernel_size=(3, 3), stride=(2, 2), padding=(1, 1))\n",
       "      (norm2): LayerNorm((128,), eps=1e-06, elementwise_affine=True)\n",
       "    )\n",
       "    (stages_0): MambaOutStage(\n",
       "      (downsample): Identity()\n",
       "      (blocks): Sequential(\n",
       "        (0): GatedConvBlock(\n",
       "          (norm): LayerNorm((128,), eps=1e-06, elementwise_affine=True)\n",
       "          (fc1): Linear(in_features=128, out_features=768, bias=True)\n",
       "          (act): SiLU()\n",
       "          (conv): Conv2d(192, 192, kernel_size=(7, 7), stride=(1, 1), padding=(3, 3), groups=192)\n",
       "          (fc2): Linear(in_features=384, out_features=128, bias=True)\n",
       "          (ls): LayerScale()\n",
       "          (drop_path): Identity()\n",
       "        )\n",
       "        (1): GatedConvBlock(\n",
       "          (norm): LayerNorm((128,), eps=1e-06, elementwise_affine=True)\n",
       "          (fc1): Linear(in_features=128, out_features=768, bias=True)\n",
       "          (act): SiLU()\n",
       "          (conv): Conv2d(192, 192, kernel_size=(7, 7), stride=(1, 1), padding=(3, 3), groups=192)\n",
       "          (fc2): Linear(in_features=384, out_features=128, bias=True)\n",
       "          (ls): LayerScale()\n",
       "          (drop_path): Identity()\n",
       "        )\n",
       "        (2): GatedConvBlock(\n",
       "          (norm): LayerNorm((128,), eps=1e-06, elementwise_affine=True)\n",
       "          (fc1): Linear(in_features=128, out_features=768, bias=True)\n",
       "          (act): SiLU()\n",
       "          (conv): Conv2d(192, 192, kernel_size=(7, 7), stride=(1, 1), padding=(3, 3), groups=192)\n",
       "          (fc2): Linear(in_features=384, out_features=128, bias=True)\n",
       "          (ls): LayerScale()\n",
       "          (drop_path): Identity()\n",
       "        )\n",
       "      )\n",
       "    )\n",
       "    (stages_1): MambaOutStage(\n",
       "      (downsample): DownsampleNormFirst(\n",
       "        (norm): LayerNorm((128,), eps=1e-06, elementwise_affine=True)\n",
       "        (conv): Conv2d(128, 256, kernel_size=(3, 3), stride=(2, 2), padding=(1, 1))\n",
       "      )\n",
       "      (blocks): Sequential(\n",
       "        (0): GatedConvBlock(\n",
       "          (norm): LayerNorm((256,), eps=1e-06, elementwise_affine=True)\n",
       "          (fc1): Linear(in_features=256, out_features=1536, bias=True)\n",
       "          (act): SiLU()\n",
       "          (conv): Conv2d(384, 384, kernel_size=(7, 7), stride=(1, 1), padding=(3, 3), groups=384)\n",
       "          (fc2): Linear(in_features=768, out_features=256, bias=True)\n",
       "          (ls): LayerScale()\n",
       "          (drop_path): Identity()\n",
       "        )\n",
       "        (1): GatedConvBlock(\n",
       "          (norm): LayerNorm((256,), eps=1e-06, elementwise_affine=True)\n",
       "          (fc1): Linear(in_features=256, out_features=1536, bias=True)\n",
       "          (act): SiLU()\n",
       "          (conv): Conv2d(384, 384, kernel_size=(7, 7), stride=(1, 1), padding=(3, 3), groups=384)\n",
       "          (fc2): Linear(in_features=768, out_features=256, bias=True)\n",
       "          (ls): LayerScale()\n",
       "          (drop_path): Identity()\n",
       "        )\n",
       "        (2): GatedConvBlock(\n",
       "          (norm): LayerNorm((256,), eps=1e-06, elementwise_affine=True)\n",
       "          (fc1): Linear(in_features=256, out_features=1536, bias=True)\n",
       "          (act): SiLU()\n",
       "          (conv): Conv2d(384, 384, kernel_size=(7, 7), stride=(1, 1), padding=(3, 3), groups=384)\n",
       "          (fc2): Linear(in_features=768, out_features=256, bias=True)\n",
       "          (ls): LayerScale()\n",
       "          (drop_path): Identity()\n",
       "        )\n",
       "        (3): GatedConvBlock(\n",
       "          (norm): LayerNorm((256,), eps=1e-06, elementwise_affine=True)\n",
       "          (fc1): Linear(in_features=256, out_features=1536, bias=True)\n",
       "          (act): SiLU()\n",
       "          (conv): Conv2d(384, 384, kernel_size=(7, 7), stride=(1, 1), padding=(3, 3), groups=384)\n",
       "          (fc2): Linear(in_features=768, out_features=256, bias=True)\n",
       "          (ls): LayerScale()\n",
       "          (drop_path): Identity()\n",
       "        )\n",
       "      )\n",
       "    )\n",
       "    (stages_2): MambaOutStage(\n",
       "      (downsample): DownsampleNormFirst(\n",
       "        (norm): LayerNorm((256,), eps=1e-06, elementwise_affine=True)\n",
       "        (conv): Conv2d(256, 512, kernel_size=(3, 3), stride=(2, 2), padding=(1, 1))\n",
       "      )\n",
       "      (blocks): Sequential(\n",
       "        (0): GatedConvBlock(\n",
       "          (norm): LayerNorm((512,), eps=1e-06, elementwise_affine=True)\n",
       "          (fc1): Linear(in_features=512, out_features=3072, bias=True)\n",
       "          (act): SiLU()\n",
       "          (conv): Conv2d(768, 768, kernel_size=(7, 7), stride=(1, 1), padding=(3, 3), groups=768)\n",
       "          (fc2): Linear(in_features=1536, out_features=512, bias=True)\n",
       "          (ls): LayerScale()\n",
       "          (drop_path): Identity()\n",
       "        )\n",
       "        (1): GatedConvBlock(\n",
       "          (norm): LayerNorm((512,), eps=1e-06, elementwise_affine=True)\n",
       "          (fc1): Linear(in_features=512, out_features=3072, bias=True)\n",
       "          (act): SiLU()\n",
       "          (conv): Conv2d(768, 768, kernel_size=(7, 7), stride=(1, 1), padding=(3, 3), groups=768)\n",
       "          (fc2): Linear(in_features=1536, out_features=512, bias=True)\n",
       "          (ls): LayerScale()\n",
       "          (drop_path): Identity()\n",
       "        )\n",
       "        (2): GatedConvBlock(\n",
       "          (norm): LayerNorm((512,), eps=1e-06, elementwise_affine=True)\n",
       "          (fc1): Linear(in_features=512, out_features=3072, bias=True)\n",
       "          (act): SiLU()\n",
       "          (conv): Conv2d(768, 768, kernel_size=(7, 7), stride=(1, 1), padding=(3, 3), groups=768)\n",
       "          (fc2): Linear(in_features=1536, out_features=512, bias=True)\n",
       "          (ls): LayerScale()\n",
       "          (drop_path): Identity()\n",
       "        )\n",
       "        (3): GatedConvBlock(\n",
       "          (norm): LayerNorm((512,), eps=1e-06, elementwise_affine=True)\n",
       "          (fc1): Linear(in_features=512, out_features=3072, bias=True)\n",
       "          (act): SiLU()\n",
       "          (conv): Conv2d(768, 768, kernel_size=(7, 7), stride=(1, 1), padding=(3, 3), groups=768)\n",
       "          (fc2): Linear(in_features=1536, out_features=512, bias=True)\n",
       "          (ls): LayerScale()\n",
       "          (drop_path): Identity()\n",
       "        )\n",
       "        (4): GatedConvBlock(\n",
       "          (norm): LayerNorm((512,), eps=1e-06, elementwise_affine=True)\n",
       "          (fc1): Linear(in_features=512, out_features=3072, bias=True)\n",
       "          (act): SiLU()\n",
       "          (conv): Conv2d(768, 768, kernel_size=(7, 7), stride=(1, 1), padding=(3, 3), groups=768)\n",
       "          (fc2): Linear(in_features=1536, out_features=512, bias=True)\n",
       "          (ls): LayerScale()\n",
       "          (drop_path): Identity()\n",
       "        )\n",
       "        (5): GatedConvBlock(\n",
       "          (norm): LayerNorm((512,), eps=1e-06, elementwise_affine=True)\n",
       "          (fc1): Linear(in_features=512, out_features=3072, bias=True)\n",
       "          (act): SiLU()\n",
       "          (conv): Conv2d(768, 768, kernel_size=(7, 7), stride=(1, 1), padding=(3, 3), groups=768)\n",
       "          (fc2): Linear(in_features=1536, out_features=512, bias=True)\n",
       "          (ls): LayerScale()\n",
       "          (drop_path): Identity()\n",
       "        )\n",
       "        (6): GatedConvBlock(\n",
       "          (norm): LayerNorm((512,), eps=1e-06, elementwise_affine=True)\n",
       "          (fc1): Linear(in_features=512, out_features=3072, bias=True)\n",
       "          (act): SiLU()\n",
       "          (conv): Conv2d(768, 768, kernel_size=(7, 7), stride=(1, 1), padding=(3, 3), groups=768)\n",
       "          (fc2): Linear(in_features=1536, out_features=512, bias=True)\n",
       "          (ls): LayerScale()\n",
       "          (drop_path): Identity()\n",
       "        )\n",
       "        (7): GatedConvBlock(\n",
       "          (norm): LayerNorm((512,), eps=1e-06, elementwise_affine=True)\n",
       "          (fc1): Linear(in_features=512, out_features=3072, bias=True)\n",
       "          (act): SiLU()\n",
       "          (conv): Conv2d(768, 768, kernel_size=(7, 7), stride=(1, 1), padding=(3, 3), groups=768)\n",
       "          (fc2): Linear(in_features=1536, out_features=512, bias=True)\n",
       "          (ls): LayerScale()\n",
       "          (drop_path): Identity()\n",
       "        )\n",
       "        (8): GatedConvBlock(\n",
       "          (norm): LayerNorm((512,), eps=1e-06, elementwise_affine=True)\n",
       "          (fc1): Linear(in_features=512, out_features=3072, bias=True)\n",
       "          (act): SiLU()\n",
       "          (conv): Conv2d(768, 768, kernel_size=(7, 7), stride=(1, 1), padding=(3, 3), groups=768)\n",
       "          (fc2): Linear(in_features=1536, out_features=512, bias=True)\n",
       "          (ls): LayerScale()\n",
       "          (drop_path): Identity()\n",
       "        )\n",
       "        (9): GatedConvBlock(\n",
       "          (norm): LayerNorm((512,), eps=1e-06, elementwise_affine=True)\n",
       "          (fc1): Linear(in_features=512, out_features=3072, bias=True)\n",
       "          (act): SiLU()\n",
       "          (conv): Conv2d(768, 768, kernel_size=(7, 7), stride=(1, 1), padding=(3, 3), groups=768)\n",
       "          (fc2): Linear(in_features=1536, out_features=512, bias=True)\n",
       "          (ls): LayerScale()\n",
       "          (drop_path): Identity()\n",
       "        )\n",
       "        (10): GatedConvBlock(\n",
       "          (norm): LayerNorm((512,), eps=1e-06, elementwise_affine=True)\n",
       "          (fc1): Linear(in_features=512, out_features=3072, bias=True)\n",
       "          (act): SiLU()\n",
       "          (conv): Conv2d(768, 768, kernel_size=(7, 7), stride=(1, 1), padding=(3, 3), groups=768)\n",
       "          (fc2): Linear(in_features=1536, out_features=512, bias=True)\n",
       "          (ls): LayerScale()\n",
       "          (drop_path): Identity()\n",
       "        )\n",
       "        (11): GatedConvBlock(\n",
       "          (norm): LayerNorm((512,), eps=1e-06, elementwise_affine=True)\n",
       "          (fc1): Linear(in_features=512, out_features=3072, bias=True)\n",
       "          (act): SiLU()\n",
       "          (conv): Conv2d(768, 768, kernel_size=(7, 7), stride=(1, 1), padding=(3, 3), groups=768)\n",
       "          (fc2): Linear(in_features=1536, out_features=512, bias=True)\n",
       "          (ls): LayerScale()\n",
       "          (drop_path): Identity()\n",
       "        )\n",
       "        (12): GatedConvBlock(\n",
       "          (norm): LayerNorm((512,), eps=1e-06, elementwise_affine=True)\n",
       "          (fc1): Linear(in_features=512, out_features=3072, bias=True)\n",
       "          (act): SiLU()\n",
       "          (conv): Conv2d(768, 768, kernel_size=(7, 7), stride=(1, 1), padding=(3, 3), groups=768)\n",
       "          (fc2): Linear(in_features=1536, out_features=512, bias=True)\n",
       "          (ls): LayerScale()\n",
       "          (drop_path): Identity()\n",
       "        )\n",
       "        (13): GatedConvBlock(\n",
       "          (norm): LayerNorm((512,), eps=1e-06, elementwise_affine=True)\n",
       "          (fc1): Linear(in_features=512, out_features=3072, bias=True)\n",
       "          (act): SiLU()\n",
       "          (conv): Conv2d(768, 768, kernel_size=(7, 7), stride=(1, 1), padding=(3, 3), groups=768)\n",
       "          (fc2): Linear(in_features=1536, out_features=512, bias=True)\n",
       "          (ls): LayerScale()\n",
       "          (drop_path): Identity()\n",
       "        )\n",
       "        (14): GatedConvBlock(\n",
       "          (norm): LayerNorm((512,), eps=1e-06, elementwise_affine=True)\n",
       "          (fc1): Linear(in_features=512, out_features=3072, bias=True)\n",
       "          (act): SiLU()\n",
       "          (conv): Conv2d(768, 768, kernel_size=(7, 7), stride=(1, 1), padding=(3, 3), groups=768)\n",
       "          (fc2): Linear(in_features=1536, out_features=512, bias=True)\n",
       "          (ls): LayerScale()\n",
       "          (drop_path): Identity()\n",
       "        )\n",
       "        (15): GatedConvBlock(\n",
       "          (norm): LayerNorm((512,), eps=1e-06, elementwise_affine=True)\n",
       "          (fc1): Linear(in_features=512, out_features=3072, bias=True)\n",
       "          (act): SiLU()\n",
       "          (conv): Conv2d(768, 768, kernel_size=(7, 7), stride=(1, 1), padding=(3, 3), groups=768)\n",
       "          (fc2): Linear(in_features=1536, out_features=512, bias=True)\n",
       "          (ls): LayerScale()\n",
       "          (drop_path): Identity()\n",
       "        )\n",
       "        (16): GatedConvBlock(\n",
       "          (norm): LayerNorm((512,), eps=1e-06, elementwise_affine=True)\n",
       "          (fc1): Linear(in_features=512, out_features=3072, bias=True)\n",
       "          (act): SiLU()\n",
       "          (conv): Conv2d(768, 768, kernel_size=(7, 7), stride=(1, 1), padding=(3, 3), groups=768)\n",
       "          (fc2): Linear(in_features=1536, out_features=512, bias=True)\n",
       "          (ls): LayerScale()\n",
       "          (drop_path): Identity()\n",
       "        )\n",
       "        (17): GatedConvBlock(\n",
       "          (norm): LayerNorm((512,), eps=1e-06, elementwise_affine=True)\n",
       "          (fc1): Linear(in_features=512, out_features=3072, bias=True)\n",
       "          (act): SiLU()\n",
       "          (conv): Conv2d(768, 768, kernel_size=(7, 7), stride=(1, 1), padding=(3, 3), groups=768)\n",
       "          (fc2): Linear(in_features=1536, out_features=512, bias=True)\n",
       "          (ls): LayerScale()\n",
       "          (drop_path): Identity()\n",
       "        )\n",
       "        (18): GatedConvBlock(\n",
       "          (norm): LayerNorm((512,), eps=1e-06, elementwise_affine=True)\n",
       "          (fc1): Linear(in_features=512, out_features=3072, bias=True)\n",
       "          (act): SiLU()\n",
       "          (conv): Conv2d(768, 768, kernel_size=(7, 7), stride=(1, 1), padding=(3, 3), groups=768)\n",
       "          (fc2): Linear(in_features=1536, out_features=512, bias=True)\n",
       "          (ls): LayerScale()\n",
       "          (drop_path): Identity()\n",
       "        )\n",
       "        (19): GatedConvBlock(\n",
       "          (norm): LayerNorm((512,), eps=1e-06, elementwise_affine=True)\n",
       "          (fc1): Linear(in_features=512, out_features=3072, bias=True)\n",
       "          (act): SiLU()\n",
       "          (conv): Conv2d(768, 768, kernel_size=(7, 7), stride=(1, 1), padding=(3, 3), groups=768)\n",
       "          (fc2): Linear(in_features=1536, out_features=512, bias=True)\n",
       "          (ls): LayerScale()\n",
       "          (drop_path): Identity()\n",
       "        )\n",
       "        (20): GatedConvBlock(\n",
       "          (norm): LayerNorm((512,), eps=1e-06, elementwise_affine=True)\n",
       "          (fc1): Linear(in_features=512, out_features=3072, bias=True)\n",
       "          (act): SiLU()\n",
       "          (conv): Conv2d(768, 768, kernel_size=(7, 7), stride=(1, 1), padding=(3, 3), groups=768)\n",
       "          (fc2): Linear(in_features=1536, out_features=512, bias=True)\n",
       "          (ls): LayerScale()\n",
       "          (drop_path): Identity()\n",
       "        )\n",
       "        (21): GatedConvBlock(\n",
       "          (norm): LayerNorm((512,), eps=1e-06, elementwise_affine=True)\n",
       "          (fc1): Linear(in_features=512, out_features=3072, bias=True)\n",
       "          (act): SiLU()\n",
       "          (conv): Conv2d(768, 768, kernel_size=(7, 7), stride=(1, 1), padding=(3, 3), groups=768)\n",
       "          (fc2): Linear(in_features=1536, out_features=512, bias=True)\n",
       "          (ls): LayerScale()\n",
       "          (drop_path): Identity()\n",
       "        )\n",
       "        (22): GatedConvBlock(\n",
       "          (norm): LayerNorm((512,), eps=1e-06, elementwise_affine=True)\n",
       "          (fc1): Linear(in_features=512, out_features=3072, bias=True)\n",
       "          (act): SiLU()\n",
       "          (conv): Conv2d(768, 768, kernel_size=(7, 7), stride=(1, 1), padding=(3, 3), groups=768)\n",
       "          (fc2): Linear(in_features=1536, out_features=512, bias=True)\n",
       "          (ls): LayerScale()\n",
       "          (drop_path): Identity()\n",
       "        )\n",
       "        (23): GatedConvBlock(\n",
       "          (norm): LayerNorm((512,), eps=1e-06, elementwise_affine=True)\n",
       "          (fc1): Linear(in_features=512, out_features=3072, bias=True)\n",
       "          (act): SiLU()\n",
       "          (conv): Conv2d(768, 768, kernel_size=(7, 7), stride=(1, 1), padding=(3, 3), groups=768)\n",
       "          (fc2): Linear(in_features=1536, out_features=512, bias=True)\n",
       "          (ls): LayerScale()\n",
       "          (drop_path): Identity()\n",
       "        )\n",
       "        (24): GatedConvBlock(\n",
       "          (norm): LayerNorm((512,), eps=1e-06, elementwise_affine=True)\n",
       "          (fc1): Linear(in_features=512, out_features=3072, bias=True)\n",
       "          (act): SiLU()\n",
       "          (conv): Conv2d(768, 768, kernel_size=(7, 7), stride=(1, 1), padding=(3, 3), groups=768)\n",
       "          (fc2): Linear(in_features=1536, out_features=512, bias=True)\n",
       "          (ls): LayerScale()\n",
       "          (drop_path): Identity()\n",
       "        )\n",
       "        (25): GatedConvBlock(\n",
       "          (norm): LayerNorm((512,), eps=1e-06, elementwise_affine=True)\n",
       "          (fc1): Linear(in_features=512, out_features=3072, bias=True)\n",
       "          (act): SiLU()\n",
       "          (conv): Conv2d(768, 768, kernel_size=(7, 7), stride=(1, 1), padding=(3, 3), groups=768)\n",
       "          (fc2): Linear(in_features=1536, out_features=512, bias=True)\n",
       "          (ls): LayerScale()\n",
       "          (drop_path): Identity()\n",
       "        )\n",
       "        (26): GatedConvBlock(\n",
       "          (norm): LayerNorm((512,), eps=1e-06, elementwise_affine=True)\n",
       "          (fc1): Linear(in_features=512, out_features=3072, bias=True)\n",
       "          (act): SiLU()\n",
       "          (conv): Conv2d(768, 768, kernel_size=(7, 7), stride=(1, 1), padding=(3, 3), groups=768)\n",
       "          (fc2): Linear(in_features=1536, out_features=512, bias=True)\n",
       "          (ls): LayerScale()\n",
       "          (drop_path): Identity()\n",
       "        )\n",
       "        (27): GatedConvBlock(\n",
       "          (norm): LayerNorm((512,), eps=1e-06, elementwise_affine=True)\n",
       "          (fc1): Linear(in_features=512, out_features=3072, bias=True)\n",
       "          (act): SiLU()\n",
       "          (conv): Conv2d(768, 768, kernel_size=(7, 7), stride=(1, 1), padding=(3, 3), groups=768)\n",
       "          (fc2): Linear(in_features=1536, out_features=512, bias=True)\n",
       "          (ls): LayerScale()\n",
       "          (drop_path): Identity()\n",
       "        )\n",
       "        (28): GatedConvBlock(\n",
       "          (norm): LayerNorm((512,), eps=1e-06, elementwise_affine=True)\n",
       "          (fc1): Linear(in_features=512, out_features=3072, bias=True)\n",
       "          (act): SiLU()\n",
       "          (conv): Conv2d(768, 768, kernel_size=(7, 7), stride=(1, 1), padding=(3, 3), groups=768)\n",
       "          (fc2): Linear(in_features=1536, out_features=512, bias=True)\n",
       "          (ls): LayerScale()\n",
       "          (drop_path): Identity()\n",
       "        )\n",
       "        (29): GatedConvBlock(\n",
       "          (norm): LayerNorm((512,), eps=1e-06, elementwise_affine=True)\n",
       "          (fc1): Linear(in_features=512, out_features=3072, bias=True)\n",
       "          (act): SiLU()\n",
       "          (conv): Conv2d(768, 768, kernel_size=(7, 7), stride=(1, 1), padding=(3, 3), groups=768)\n",
       "          (fc2): Linear(in_features=1536, out_features=512, bias=True)\n",
       "          (ls): LayerScale()\n",
       "          (drop_path): Identity()\n",
       "        )\n",
       "      )\n",
       "    )\n",
       "    (stages_3): MambaOutStage(\n",
       "      (downsample): DownsampleNormFirst(\n",
       "        (norm): LayerNorm((512,), eps=1e-06, elementwise_affine=True)\n",
       "        (conv): Conv2d(512, 768, kernel_size=(3, 3), stride=(2, 2), padding=(1, 1))\n",
       "      )\n",
       "      (blocks): Sequential(\n",
       "        (0): GatedConvBlock(\n",
       "          (norm): LayerNorm((768,), eps=1e-06, elementwise_affine=True)\n",
       "          (fc1): Linear(in_features=768, out_features=4608, bias=True)\n",
       "          (act): SiLU()\n",
       "          (conv): Conv2d(1152, 1152, kernel_size=(7, 7), stride=(1, 1), padding=(3, 3), groups=1152)\n",
       "          (fc2): Linear(in_features=2304, out_features=768, bias=True)\n",
       "          (ls): LayerScale()\n",
       "          (drop_path): Identity()\n",
       "        )\n",
       "        (1): GatedConvBlock(\n",
       "          (norm): LayerNorm((768,), eps=1e-06, elementwise_affine=True)\n",
       "          (fc1): Linear(in_features=768, out_features=4608, bias=True)\n",
       "          (act): SiLU()\n",
       "          (conv): Conv2d(1152, 1152, kernel_size=(7, 7), stride=(1, 1), padding=(3, 3), groups=1152)\n",
       "          (fc2): Linear(in_features=2304, out_features=768, bias=True)\n",
       "          (ls): LayerScale()\n",
       "          (drop_path): Identity()\n",
       "        )\n",
       "        (2): GatedConvBlock(\n",
       "          (norm): LayerNorm((768,), eps=1e-06, elementwise_affine=True)\n",
       "          (fc1): Linear(in_features=768, out_features=4608, bias=True)\n",
       "          (act): SiLU()\n",
       "          (conv): Conv2d(1152, 1152, kernel_size=(7, 7), stride=(1, 1), padding=(3, 3), groups=1152)\n",
       "          (fc2): Linear(in_features=2304, out_features=768, bias=True)\n",
       "          (ls): LayerScale()\n",
       "          (drop_path): Identity()\n",
       "        )\n",
       "      )\n",
       "    )\n",
       "  )\n",
       "  (reshape_to_image): Sequential(\n",
       "    (0): Linear(in_features=768, out_features=150528, bias=True)\n",
       "    (1): Unflatten(dim=1, unflattened_size=(3, 224, 224))\n",
       "  )\n",
       "  (vit): VisionTransformer(\n",
       "    (patch_embed): PatchEmbed(\n",
       "      (proj): Conv2d(3, 192, kernel_size=(16, 16), stride=(16, 16))\n",
       "      (norm): Identity()\n",
       "    )\n",
       "    (pos_drop): Dropout(p=0.0, inplace=False)\n",
       "    (patch_drop): Identity()\n",
       "    (norm_pre): Identity()\n",
       "    (blocks): Sequential(\n",
       "      (0): Block(\n",
       "        (norm1): LayerNorm((192,), eps=1e-06, elementwise_affine=True)\n",
       "        (attn): Attention(\n",
       "          (qkv): Linear(in_features=192, out_features=576, bias=True)\n",
       "          (q_norm): Identity()\n",
       "          (k_norm): Identity()\n",
       "          (attn_drop): Dropout(p=0.0, inplace=False)\n",
       "          (proj): Linear(in_features=192, out_features=192, bias=True)\n",
       "          (proj_drop): Dropout(p=0.0, inplace=False)\n",
       "        )\n",
       "        (ls1): Identity()\n",
       "        (drop_path1): Identity()\n",
       "        (norm2): LayerNorm((192,), eps=1e-06, elementwise_affine=True)\n",
       "        (mlp): Mlp(\n",
       "          (fc1): Linear(in_features=192, out_features=768, bias=True)\n",
       "          (act): GELU(approximate='none')\n",
       "          (drop1): Dropout(p=0.0, inplace=False)\n",
       "          (norm): Identity()\n",
       "          (fc2): Linear(in_features=768, out_features=192, bias=True)\n",
       "          (drop2): Dropout(p=0.0, inplace=False)\n",
       "        )\n",
       "        (ls2): Identity()\n",
       "        (drop_path2): Identity()\n",
       "      )\n",
       "      (1): Block(\n",
       "        (norm1): LayerNorm((192,), eps=1e-06, elementwise_affine=True)\n",
       "        (attn): Attention(\n",
       "          (qkv): Linear(in_features=192, out_features=576, bias=True)\n",
       "          (q_norm): Identity()\n",
       "          (k_norm): Identity()\n",
       "          (attn_drop): Dropout(p=0.0, inplace=False)\n",
       "          (proj): Linear(in_features=192, out_features=192, bias=True)\n",
       "          (proj_drop): Dropout(p=0.0, inplace=False)\n",
       "        )\n",
       "        (ls1): Identity()\n",
       "        (drop_path1): Identity()\n",
       "        (norm2): LayerNorm((192,), eps=1e-06, elementwise_affine=True)\n",
       "        (mlp): Mlp(\n",
       "          (fc1): Linear(in_features=192, out_features=768, bias=True)\n",
       "          (act): GELU(approximate='none')\n",
       "          (drop1): Dropout(p=0.0, inplace=False)\n",
       "          (norm): Identity()\n",
       "          (fc2): Linear(in_features=768, out_features=192, bias=True)\n",
       "          (drop2): Dropout(p=0.0, inplace=False)\n",
       "        )\n",
       "        (ls2): Identity()\n",
       "        (drop_path2): Identity()\n",
       "      )\n",
       "      (2): Block(\n",
       "        (norm1): LayerNorm((192,), eps=1e-06, elementwise_affine=True)\n",
       "        (attn): Attention(\n",
       "          (qkv): Linear(in_features=192, out_features=576, bias=True)\n",
       "          (q_norm): Identity()\n",
       "          (k_norm): Identity()\n",
       "          (attn_drop): Dropout(p=0.0, inplace=False)\n",
       "          (proj): Linear(in_features=192, out_features=192, bias=True)\n",
       "          (proj_drop): Dropout(p=0.0, inplace=False)\n",
       "        )\n",
       "        (ls1): Identity()\n",
       "        (drop_path1): Identity()\n",
       "        (norm2): LayerNorm((192,), eps=1e-06, elementwise_affine=True)\n",
       "        (mlp): Mlp(\n",
       "          (fc1): Linear(in_features=192, out_features=768, bias=True)\n",
       "          (act): GELU(approximate='none')\n",
       "          (drop1): Dropout(p=0.0, inplace=False)\n",
       "          (norm): Identity()\n",
       "          (fc2): Linear(in_features=768, out_features=192, bias=True)\n",
       "          (drop2): Dropout(p=0.0, inplace=False)\n",
       "        )\n",
       "        (ls2): Identity()\n",
       "        (drop_path2): Identity()\n",
       "      )\n",
       "      (3): Block(\n",
       "        (norm1): LayerNorm((192,), eps=1e-06, elementwise_affine=True)\n",
       "        (attn): Attention(\n",
       "          (qkv): Linear(in_features=192, out_features=576, bias=True)\n",
       "          (q_norm): Identity()\n",
       "          (k_norm): Identity()\n",
       "          (attn_drop): Dropout(p=0.0, inplace=False)\n",
       "          (proj): Linear(in_features=192, out_features=192, bias=True)\n",
       "          (proj_drop): Dropout(p=0.0, inplace=False)\n",
       "        )\n",
       "        (ls1): Identity()\n",
       "        (drop_path1): Identity()\n",
       "        (norm2): LayerNorm((192,), eps=1e-06, elementwise_affine=True)\n",
       "        (mlp): Mlp(\n",
       "          (fc1): Linear(in_features=192, out_features=768, bias=True)\n",
       "          (act): GELU(approximate='none')\n",
       "          (drop1): Dropout(p=0.0, inplace=False)\n",
       "          (norm): Identity()\n",
       "          (fc2): Linear(in_features=768, out_features=192, bias=True)\n",
       "          (drop2): Dropout(p=0.0, inplace=False)\n",
       "        )\n",
       "        (ls2): Identity()\n",
       "        (drop_path2): Identity()\n",
       "      )\n",
       "      (4): Block(\n",
       "        (norm1): LayerNorm((192,), eps=1e-06, elementwise_affine=True)\n",
       "        (attn): Attention(\n",
       "          (qkv): Linear(in_features=192, out_features=576, bias=True)\n",
       "          (q_norm): Identity()\n",
       "          (k_norm): Identity()\n",
       "          (attn_drop): Dropout(p=0.0, inplace=False)\n",
       "          (proj): Linear(in_features=192, out_features=192, bias=True)\n",
       "          (proj_drop): Dropout(p=0.0, inplace=False)\n",
       "        )\n",
       "        (ls1): Identity()\n",
       "        (drop_path1): Identity()\n",
       "        (norm2): LayerNorm((192,), eps=1e-06, elementwise_affine=True)\n",
       "        (mlp): Mlp(\n",
       "          (fc1): Linear(in_features=192, out_features=768, bias=True)\n",
       "          (act): GELU(approximate='none')\n",
       "          (drop1): Dropout(p=0.0, inplace=False)\n",
       "          (norm): Identity()\n",
       "          (fc2): Linear(in_features=768, out_features=192, bias=True)\n",
       "          (drop2): Dropout(p=0.0, inplace=False)\n",
       "        )\n",
       "        (ls2): Identity()\n",
       "        (drop_path2): Identity()\n",
       "      )\n",
       "      (5): Block(\n",
       "        (norm1): LayerNorm((192,), eps=1e-06, elementwise_affine=True)\n",
       "        (attn): Attention(\n",
       "          (qkv): Linear(in_features=192, out_features=576, bias=True)\n",
       "          (q_norm): Identity()\n",
       "          (k_norm): Identity()\n",
       "          (attn_drop): Dropout(p=0.0, inplace=False)\n",
       "          (proj): Linear(in_features=192, out_features=192, bias=True)\n",
       "          (proj_drop): Dropout(p=0.0, inplace=False)\n",
       "        )\n",
       "        (ls1): Identity()\n",
       "        (drop_path1): Identity()\n",
       "        (norm2): LayerNorm((192,), eps=1e-06, elementwise_affine=True)\n",
       "        (mlp): Mlp(\n",
       "          (fc1): Linear(in_features=192, out_features=768, bias=True)\n",
       "          (act): GELU(approximate='none')\n",
       "          (drop1): Dropout(p=0.0, inplace=False)\n",
       "          (norm): Identity()\n",
       "          (fc2): Linear(in_features=768, out_features=192, bias=True)\n",
       "          (drop2): Dropout(p=0.0, inplace=False)\n",
       "        )\n",
       "        (ls2): Identity()\n",
       "        (drop_path2): Identity()\n",
       "      )\n",
       "      (6): Block(\n",
       "        (norm1): LayerNorm((192,), eps=1e-06, elementwise_affine=True)\n",
       "        (attn): Attention(\n",
       "          (qkv): Linear(in_features=192, out_features=576, bias=True)\n",
       "          (q_norm): Identity()\n",
       "          (k_norm): Identity()\n",
       "          (attn_drop): Dropout(p=0.0, inplace=False)\n",
       "          (proj): Linear(in_features=192, out_features=192, bias=True)\n",
       "          (proj_drop): Dropout(p=0.0, inplace=False)\n",
       "        )\n",
       "        (ls1): Identity()\n",
       "        (drop_path1): Identity()\n",
       "        (norm2): LayerNorm((192,), eps=1e-06, elementwise_affine=True)\n",
       "        (mlp): Mlp(\n",
       "          (fc1): Linear(in_features=192, out_features=768, bias=True)\n",
       "          (act): GELU(approximate='none')\n",
       "          (drop1): Dropout(p=0.0, inplace=False)\n",
       "          (norm): Identity()\n",
       "          (fc2): Linear(in_features=768, out_features=192, bias=True)\n",
       "          (drop2): Dropout(p=0.0, inplace=False)\n",
       "        )\n",
       "        (ls2): Identity()\n",
       "        (drop_path2): Identity()\n",
       "      )\n",
       "      (7): Block(\n",
       "        (norm1): LayerNorm((192,), eps=1e-06, elementwise_affine=True)\n",
       "        (attn): Attention(\n",
       "          (qkv): Linear(in_features=192, out_features=576, bias=True)\n",
       "          (q_norm): Identity()\n",
       "          (k_norm): Identity()\n",
       "          (attn_drop): Dropout(p=0.0, inplace=False)\n",
       "          (proj): Linear(in_features=192, out_features=192, bias=True)\n",
       "          (proj_drop): Dropout(p=0.0, inplace=False)\n",
       "        )\n",
       "        (ls1): Identity()\n",
       "        (drop_path1): Identity()\n",
       "        (norm2): LayerNorm((192,), eps=1e-06, elementwise_affine=True)\n",
       "        (mlp): Mlp(\n",
       "          (fc1): Linear(in_features=192, out_features=768, bias=True)\n",
       "          (act): GELU(approximate='none')\n",
       "          (drop1): Dropout(p=0.0, inplace=False)\n",
       "          (norm): Identity()\n",
       "          (fc2): Linear(in_features=768, out_features=192, bias=True)\n",
       "          (drop2): Dropout(p=0.0, inplace=False)\n",
       "        )\n",
       "        (ls2): Identity()\n",
       "        (drop_path2): Identity()\n",
       "      )\n",
       "      (8): Block(\n",
       "        (norm1): LayerNorm((192,), eps=1e-06, elementwise_affine=True)\n",
       "        (attn): Attention(\n",
       "          (qkv): Linear(in_features=192, out_features=576, bias=True)\n",
       "          (q_norm): Identity()\n",
       "          (k_norm): Identity()\n",
       "          (attn_drop): Dropout(p=0.0, inplace=False)\n",
       "          (proj): Linear(in_features=192, out_features=192, bias=True)\n",
       "          (proj_drop): Dropout(p=0.0, inplace=False)\n",
       "        )\n",
       "        (ls1): Identity()\n",
       "        (drop_path1): Identity()\n",
       "        (norm2): LayerNorm((192,), eps=1e-06, elementwise_affine=True)\n",
       "        (mlp): Mlp(\n",
       "          (fc1): Linear(in_features=192, out_features=768, bias=True)\n",
       "          (act): GELU(approximate='none')\n",
       "          (drop1): Dropout(p=0.0, inplace=False)\n",
       "          (norm): Identity()\n",
       "          (fc2): Linear(in_features=768, out_features=192, bias=True)\n",
       "          (drop2): Dropout(p=0.0, inplace=False)\n",
       "        )\n",
       "        (ls2): Identity()\n",
       "        (drop_path2): Identity()\n",
       "      )\n",
       "      (9): Block(\n",
       "        (norm1): LayerNorm((192,), eps=1e-06, elementwise_affine=True)\n",
       "        (attn): Attention(\n",
       "          (qkv): Linear(in_features=192, out_features=576, bias=True)\n",
       "          (q_norm): Identity()\n",
       "          (k_norm): Identity()\n",
       "          (attn_drop): Dropout(p=0.0, inplace=False)\n",
       "          (proj): Linear(in_features=192, out_features=192, bias=True)\n",
       "          (proj_drop): Dropout(p=0.0, inplace=False)\n",
       "        )\n",
       "        (ls1): Identity()\n",
       "        (drop_path1): Identity()\n",
       "        (norm2): LayerNorm((192,), eps=1e-06, elementwise_affine=True)\n",
       "        (mlp): Mlp(\n",
       "          (fc1): Linear(in_features=192, out_features=768, bias=True)\n",
       "          (act): GELU(approximate='none')\n",
       "          (drop1): Dropout(p=0.0, inplace=False)\n",
       "          (norm): Identity()\n",
       "          (fc2): Linear(in_features=768, out_features=192, bias=True)\n",
       "          (drop2): Dropout(p=0.0, inplace=False)\n",
       "        )\n",
       "        (ls2): Identity()\n",
       "        (drop_path2): Identity()\n",
       "      )\n",
       "      (10): Block(\n",
       "        (norm1): LayerNorm((192,), eps=1e-06, elementwise_affine=True)\n",
       "        (attn): Attention(\n",
       "          (qkv): Linear(in_features=192, out_features=576, bias=True)\n",
       "          (q_norm): Identity()\n",
       "          (k_norm): Identity()\n",
       "          (attn_drop): Dropout(p=0.0, inplace=False)\n",
       "          (proj): Linear(in_features=192, out_features=192, bias=True)\n",
       "          (proj_drop): Dropout(p=0.0, inplace=False)\n",
       "        )\n",
       "        (ls1): Identity()\n",
       "        (drop_path1): Identity()\n",
       "        (norm2): LayerNorm((192,), eps=1e-06, elementwise_affine=True)\n",
       "        (mlp): Mlp(\n",
       "          (fc1): Linear(in_features=192, out_features=768, bias=True)\n",
       "          (act): GELU(approximate='none')\n",
       "          (drop1): Dropout(p=0.0, inplace=False)\n",
       "          (norm): Identity()\n",
       "          (fc2): Linear(in_features=768, out_features=192, bias=True)\n",
       "          (drop2): Dropout(p=0.0, inplace=False)\n",
       "        )\n",
       "        (ls2): Identity()\n",
       "        (drop_path2): Identity()\n",
       "      )\n",
       "      (11): Block(\n",
       "        (norm1): LayerNorm((192,), eps=1e-06, elementwise_affine=True)\n",
       "        (attn): Attention(\n",
       "          (qkv): Linear(in_features=192, out_features=576, bias=True)\n",
       "          (q_norm): Identity()\n",
       "          (k_norm): Identity()\n",
       "          (attn_drop): Dropout(p=0.0, inplace=False)\n",
       "          (proj): Linear(in_features=192, out_features=192, bias=True)\n",
       "          (proj_drop): Dropout(p=0.0, inplace=False)\n",
       "        )\n",
       "        (ls1): Identity()\n",
       "        (drop_path1): Identity()\n",
       "        (norm2): LayerNorm((192,), eps=1e-06, elementwise_affine=True)\n",
       "        (mlp): Mlp(\n",
       "          (fc1): Linear(in_features=192, out_features=768, bias=True)\n",
       "          (act): GELU(approximate='none')\n",
       "          (drop1): Dropout(p=0.0, inplace=False)\n",
       "          (norm): Identity()\n",
       "          (fc2): Linear(in_features=768, out_features=192, bias=True)\n",
       "          (drop2): Dropout(p=0.0, inplace=False)\n",
       "        )\n",
       "        (ls2): Identity()\n",
       "        (drop_path2): Identity()\n",
       "      )\n",
       "    )\n",
       "    (norm): LayerNorm((192,), eps=1e-06, elementwise_affine=True)\n",
       "    (fc_norm): Identity()\n",
       "    (head_drop): Dropout(p=0.0, inplace=False)\n",
       "    (head): Identity()\n",
       "  )\n",
       "  (head_eloss): Linear(in_features=192, out_features=1, bias=True)\n",
       "  (head_alpha): Linear(in_features=192, out_features=3, bias=True)\n",
       "  (head_q0): Linear(in_features=192, out_features=4, bias=True)\n",
       ")"
      ]
     },
     "execution_count": 7,
     "metadata": {},
     "output_type": "execute_result"
    }
   ],
   "source": [
    "# Model and optimizer\n",
    "model, optimizer = create_model(cfg.backbone, cfg.input_shape, cfg.learning_rate)\n",
    "model.to(device)"
   ]
  },
  {
   "cell_type": "code",
   "execution_count": 8,
   "metadata": {},
   "outputs": [
    {
     "name": "stdout",
     "output_type": "stream",
     "text": [
      "No parallelization, using single GPU\n"
     ]
    }
   ],
   "source": [
    "if torch.cuda.device_count() > 1:\n",
    "    print(f\"Parallelizing model across {torch.cuda.device_count()} GPUs\")\n",
    "    model = torch.nn.DataParallel(model)\n",
    "elif torch.cuda.device_count() == 1:\n",
    "    print(\"No parallelization, using single GPU\")\n",
    "elif torch.cuda.device_count() == 0:\n",
    "    print(\"No GPU available, using CPU\")"
   ]
  },
  {
   "cell_type": "code",
   "execution_count": 9,
   "metadata": {},
   "outputs": [],
   "source": [
    "scheduler = create_scheduler(optimizer, cfg, train_loader=train_loader)"
   ]
  },
  {
   "cell_type": "code",
   "execution_count": 10,
   "metadata": {},
   "outputs": [
    {
     "name": "stdout",
     "output_type": "stream",
     "text": [
      "[INFO] Loss functions:{'energy_loss_output': BCEWithLogitsLoss(), 'alpha_output': CrossEntropyLoss(), 'q0_output': CrossEntropyLoss()}\n"
     ]
    }
   ],
   "source": [
    "criterion = {\n",
    "    # 'energy_loss_output': nn.BCELoss(),\n",
    "    'energy_loss_output': nn.BCEWithLogitsLoss(),\n",
    "    'alpha_output': nn.CrossEntropyLoss(),\n",
    "    'q0_output': nn.CrossEntropyLoss()\n",
    "}\n",
    "print(f\"[INFO] Loss functions:{criterion}\")"
   ]
  },
  {
   "cell_type": "code",
   "execution_count": 11,
   "metadata": {},
   "outputs": [
    {
     "name": "stdout",
     "output_type": "stream",
     "text": [
      "[INFO] Init Training Trackers\n",
      "[INFO] Init Validation Trackers\n"
     ]
    }
   ],
   "source": [
    "print(f\"[INFO] Init Training Trackers\")\n",
    "train_loss_energy_list, train_loss_alpha_list, train_loss_q0_list, train_loss_list = [], [], [],[]\n",
    "train_acc_energy_list, train_acc_alpha_list, train_acc_q0_list, train_acc_list = [], [], [], []\n",
    "\n",
    "print(f\"[INFO] Init Validation Trackers\")\n",
    "val_loss_energy_list, val_loss_alpha_list,val_loss_q0_list,val_loss_list = [], [], [], []\n",
    "val_acc_energy_list, val_acc_alpha_list,val_acc_q0_list ,val_acc_list = [],[],[],[]"
   ]
  },
  {
   "cell_type": "code",
   "execution_count": 12,
   "metadata": {},
   "outputs": [
    {
     "name": "stdout",
     "output_type": "stream",
     "text": [
      "[INFO] Init Resume/Training Parameters\n",
      "[INFO] Starting fresh training run by initializing training summary\n",
      "[INFO] 📄 Training summary saved to: training_output/mambaout_base_plus_rw_ViT_tiny_patch16_224_in1k_g500_bs64_ep1_lr1e-04_ds1008_g500_sched_ReduceLROnPlateau/training_summary.json\n"
     ]
    }
   ],
   "source": [
    "model, optimizer, start_epoch, best_acc, early_stop_counter, best_epoch, best_metrics, training_summary, all_epoch_metrics,summary_status = init_resume_state( model, optimizer, device,cfg)"
   ]
  },
  {
   "cell_type": "code",
   "execution_count": 13,
   "metadata": {},
   "outputs": [],
   "source": [
    "fill_trackers_from_history(\n",
    "    all_epoch_metrics,\n",
    "    train_loss_energy_list, train_loss_alpha_list, train_loss_q0_list, train_loss_list,\n",
    "    train_acc_energy_list, train_acc_alpha_list, train_acc_q0_list, train_acc_list,\n",
    "    val_loss_energy_list, val_loss_alpha_list, val_loss_q0_list, val_loss_list,\n",
    "    val_acc_energy_list, val_acc_alpha_list, val_acc_q0_list, val_acc_list,\n",
    "    summary_status, best_epoch\n",
    ")"
   ]
  },
  {
   "cell_type": "code",
   "execution_count": 14,
   "metadata": {},
   "outputs": [],
   "source": [
    "# for testing\n",
    "# train_metrics = train_one_epoch(train_loader, model, criterion, optimizer, device)\n",
    "# print(f\"[INFO] Training metrics: {train_metrics}\")"
   ]
  },
  {
   "cell_type": "code",
   "execution_count": 15,
   "metadata": {},
   "outputs": [
    {
     "name": "stdout",
     "output_type": "stream",
     "text": [
      "[INFO] Epoch 1/1\n"
     ]
    },
    {
     "name": "stderr",
     "output_type": "stream",
     "text": [
      "Training:   0%|          | 0/13 [00:00<?, ?it/s]"
     ]
    },
    {
     "name": "stdout",
     "output_type": "stream",
     "text": [
      "input proj\n",
      "mamba\n",
      "flatten if [B, C, 1, 1]\n",
      "reshape to image\n",
      "vit forward features\n"
     ]
    },
    {
     "name": "stderr",
     "output_type": "stream",
     "text": [
      "Training:   8%|▊         | 1/13 [00:02<00:32,  2.70s/it]"
     ]
    },
    {
     "name": "stdout",
     "output_type": "stream",
     "text": [
      "input proj\n",
      "mamba\n",
      "flatten if [B, C, 1, 1]\n",
      "reshape to image\n",
      "vit forward features\n"
     ]
    },
    {
     "name": "stderr",
     "output_type": "stream",
     "text": [
      "Training:  15%|█▌        | 2/13 [00:04<00:26,  2.44s/it]"
     ]
    },
    {
     "name": "stdout",
     "output_type": "stream",
     "text": [
      "input proj\n",
      "mamba\n",
      "flatten if [B, C, 1, 1]\n",
      "reshape to image\n",
      "vit forward features\n"
     ]
    },
    {
     "name": "stderr",
     "output_type": "stream",
     "text": [
      "Training:  23%|██▎       | 3/13 [00:07<00:23,  2.33s/it]"
     ]
    },
    {
     "name": "stdout",
     "output_type": "stream",
     "text": [
      "input proj\n",
      "mamba\n",
      "flatten if [B, C, 1, 1]\n",
      "reshape to image\n",
      "vit forward features\n"
     ]
    },
    {
     "name": "stderr",
     "output_type": "stream",
     "text": [
      "Training:  31%|███       | 4/13 [00:09<00:20,  2.26s/it]"
     ]
    },
    {
     "name": "stdout",
     "output_type": "stream",
     "text": [
      "input proj\n",
      "mamba\n",
      "flatten if [B, C, 1, 1]\n",
      "reshape to image\n",
      "vit forward features\n"
     ]
    },
    {
     "name": "stderr",
     "output_type": "stream",
     "text": [
      "Training:  38%|███▊      | 5/13 [00:11<00:17,  2.24s/it]"
     ]
    },
    {
     "name": "stdout",
     "output_type": "stream",
     "text": [
      "input proj\n",
      "mamba\n",
      "flatten if [B, C, 1, 1]\n",
      "reshape to image\n",
      "vit forward features\n"
     ]
    },
    {
     "name": "stderr",
     "output_type": "stream",
     "text": [
      "Training:  46%|████▌     | 6/13 [00:13<00:15,  2.27s/it]"
     ]
    },
    {
     "name": "stdout",
     "output_type": "stream",
     "text": [
      "input proj\n",
      "mamba\n",
      "flatten if [B, C, 1, 1]\n",
      "reshape to image\n",
      "vit forward features\n"
     ]
    },
    {
     "name": "stderr",
     "output_type": "stream",
     "text": [
      "Training:  54%|█████▍    | 7/13 [00:21<00:24,  4.09s/it]"
     ]
    },
    {
     "name": "stdout",
     "output_type": "stream",
     "text": [
      "input proj\n",
      "mamba\n",
      "flatten if [B, C, 1, 1]\n",
      "reshape to image\n",
      "vit forward features\n"
     ]
    },
    {
     "name": "stderr",
     "output_type": "stream",
     "text": [
      "Training:  62%|██████▏   | 8/13 [00:23<00:17,  3.51s/it]"
     ]
    },
    {
     "name": "stdout",
     "output_type": "stream",
     "text": [
      "input proj\n",
      "mamba\n",
      "flatten if [B, C, 1, 1]\n",
      "reshape to image\n",
      "vit forward features\n"
     ]
    },
    {
     "name": "stderr",
     "output_type": "stream",
     "text": [
      "Training:  69%|██████▉   | 9/13 [00:26<00:12,  3.07s/it]"
     ]
    },
    {
     "name": "stdout",
     "output_type": "stream",
     "text": [
      "input proj\n",
      "mamba\n",
      "flatten if [B, C, 1, 1]\n",
      "reshape to image\n",
      "vit forward features\n"
     ]
    },
    {
     "name": "stderr",
     "output_type": "stream",
     "text": [
      "Training:  77%|███████▋  | 10/13 [00:28<00:08,  2.80s/it]"
     ]
    },
    {
     "name": "stdout",
     "output_type": "stream",
     "text": [
      "input proj\n",
      "mamba\n",
      "flatten if [B, C, 1, 1]\n",
      "reshape to image\n",
      "vit forward features\n"
     ]
    },
    {
     "name": "stderr",
     "output_type": "stream",
     "text": [
      "Training:  85%|████████▍ | 11/13 [00:30<00:05,  2.63s/it]"
     ]
    },
    {
     "name": "stdout",
     "output_type": "stream",
     "text": [
      "input proj\n",
      "mamba\n",
      "flatten if [B, C, 1, 1]\n",
      "reshape to image\n",
      "vit forward features\n"
     ]
    },
    {
     "name": "stderr",
     "output_type": "stream",
     "text": [
      "                                                         "
     ]
    },
    {
     "name": "stdout",
     "output_type": "stream",
     "text": [
      "input proj\n",
      "mamba\n",
      "flatten if [B, C, 1, 1]\n",
      "reshape to image\n",
      "vit forward features\n"
     ]
    },
    {
     "name": "stderr",
     "output_type": "stream",
     "text": [
      "\r"
     ]
    },
    {
     "name": "stdout",
     "output_type": "stream",
     "text": [
      "input proj\n",
      "mamba\n",
      "flatten if [B, C, 1, 1]\n",
      "reshape to image\n",
      "vit forward features\n",
      "input proj\n",
      "mamba\n",
      "flatten if [B, C, 1, 1]\n",
      "reshape to image\n",
      "vit forward features\n",
      "[INFO] Epoch 1: Energy Acc =0.7426, αs Acc = 0.3168, Q0 Acc = 0.2574, Total Acc = 0.0792\n",
      "[INFO] Epoch 1: Energy Loss =0.5734, αs Loss = 1.1279, Q0 Loss = 1.4175, Total Loss = 3.1189\n",
      "📉 Current LR: 0.0001\n",
      "[INFO] Epoch 1: Saving metrics to disk\n",
      "💾 Last model saved at epoch 1\n",
      "✅ Best model saved at epoch 1 with total accuracy: 0.0792\n",
      "======================================================================================================================================================\n"
     ]
    }
   ],
   "source": [
    "best_epoch,best_acc,best_metrics=run_training_loop(\n",
    "                      cfg,train_loader,val_loader,\n",
    "                      device, model,criterion,\n",
    "                      optimizer,scheduler,\n",
    "                      start_epoch,early_stop_counter,\n",
    "                      best_acc,best_metrics,best_epoch,\n",
    "                      train_loss_list,\n",
    "                        train_loss_energy_list,\n",
    "                        train_loss_alpha_list,\n",
    "                        train_loss_q0_list,\n",
    "                        train_acc_list,\n",
    "                        train_acc_energy_list,\n",
    "                        train_acc_alpha_list,\n",
    "                        train_acc_q0_list,\n",
    "                        val_loss_list,\n",
    "                        val_loss_energy_list,\n",
    "                        val_loss_alpha_list,\n",
    "                        val_loss_q0_list,\n",
    "                        val_acc_list,\n",
    "                        val_acc_energy_list,\n",
    "                        val_acc_alpha_list,\n",
    "                        val_acc_q0_list,\n",
    "                        all_epoch_metrics)"
   ]
  },
  {
   "cell_type": "code",
   "execution_count": 16,
   "metadata": {},
   "outputs": [
    {
     "name": "stdout",
     "output_type": "stream",
     "text": [
      "[INFO] 📄 Training summary saved to: training_output/mambaout_base_plus_rw_ViT_tiny_patch16_224_in1k_g500_bs64_ep1_lr1e-04_ds1008_g500_sched_ReduceLROnPlateau/training_summary.json\n",
      "\n",
      "🏁 Best Model @ Epoch 1\n",
      "Total Accuracy: 0.0792\n",
      "\n",
      "🔹 ENERGY Task\n",
      "  Accuracy : 0.7426\n",
      "  Precision: 0.3713\n",
      "  Recall   : 0.5000\n",
      "  F1-Score : 0.4261\n",
      "  Confusion Matrix:\n",
      "[[0, 26], [0, 75]]\n",
      "\n",
      "🔹 ALPHA Task\n",
      "  Accuracy : 0.3168\n",
      "  Precision: 0.1056\n",
      "  Recall   : 0.3333\n",
      "  F1-Score : 0.1604\n",
      "  Confusion Matrix:\n",
      "[[0, 0, 34], [0, 0, 35], [0, 0, 32]]\n",
      "\n",
      "🔹 Q0 Task\n",
      "  Accuracy : 0.2574\n",
      "  Precision: 0.0644\n",
      "  Recall   : 0.2500\n",
      "  F1-Score : 0.1024\n",
      "  Confusion Matrix:\n",
      "[[0, 0, 0, 26], [0, 0, 0, 24], [0, 0, 0, 25], [0, 0, 0, 26]]\n"
     ]
    }
   ],
   "source": [
    "finalize_training_summary(\n",
    "    summary=training_summary,\n",
    "    best_epoch=best_epoch,\n",
    "    best_acc=best_acc,\n",
    "    best_metrics=best_metrics,\n",
    "    output_dir=cfg.output_dir\n",
    ")\n",
    "print_best_model_summary(\n",
    "    best_epoch=best_epoch,\n",
    "    best_acc=best_acc,\n",
    "    best_metrics=best_metrics\n",
    ")"
   ]
  },
  {
   "cell_type": "code",
   "execution_count": 17,
   "metadata": {},
   "outputs": [
    {
     "name": "stdout",
     "output_type": "stream",
     "text": [
      "📊 Plots saved to:\n",
      " - training_output/mambaout_base_plus_rw_ViT_tiny_patch16_224_in1k_g500_bs64_ep1_lr1e-04_ds1008_g500_sched_ReduceLROnPlateau/loss_accuracy_plot.png\n",
      " - training_output/mambaout_base_plus_rw_ViT_tiny_patch16_224_in1k_g500_bs64_ep1_lr1e-04_ds1008_g500_sched_ReduceLROnPlateau/loss_accuracy_plot.pdf\n"
     ]
    },
    {
     "data": {
      "image/png": "[encoded data removed]",
      "text/plain": [
       "<Figure size 1200x700 with 2 Axes>"
      ]
     },
     "metadata": {},
     "output_type": "display_data"
    },
    {
     "name": "stdout",
     "output_type": "stream",
     "text": [
      "📉 Loss plot saved as:\n",
      "  - training_output/mambaout_base_plus_rw_ViT_tiny_patch16_224_in1k_g500_bs64_ep1_lr1e-04_ds1008_g500_sched_ReduceLROnPlateau/train_loss_and_accuracy_per_epoch_plot.png\n",
      "  - training_output/mambaout_base_plus_rw_ViT_tiny_patch16_224_in1k_g500_bs64_ep1_lr1e-04_ds1008_g500_sched_ReduceLROnPlateau/train_loss_and_accuracy_per_epoch_plot.pdf\n"
     ]
    },
    {
     "data": {
      "image/png": "[encoded data removed]",
      "text/plain": [
       "<Figure size 1200x700 with 2 Axes>"
      ]
     },
     "metadata": {},
     "output_type": "display_data"
    },
    {
     "name": "stdout",
     "output_type": "stream",
     "text": [
      "📉 Loss plot saved as:\n",
      "  - training_output/mambaout_base_plus_rw_ViT_tiny_patch16_224_in1k_g500_bs64_ep1_lr1e-04_ds1008_g500_sched_ReduceLROnPlateau/validation_loss_and_accuracy_per_epoch_plot.png\n",
      "  - training_output/mambaout_base_plus_rw_ViT_tiny_patch16_224_in1k_g500_bs64_ep1_lr1e-04_ds1008_g500_sched_ReduceLROnPlateau/validation_loss_and_accuracy_per_epoch_plot.pdf\n"
     ]
    },
    {
     "data": {
      "image/png": "[encoded data removed]",
      "text/plain": [
       "<Figure size 1200x700 with 2 Axes>"
      ]
     },
     "metadata": {},
     "output_type": "display_data"
    }
   ],
   "source": [
    "plot_train_val_metrics(train_loss_list, val_loss_list, train_acc_list, val_acc_list, cfg.output_dir)\n",
    "plot_loss_accuracy(train_loss_list,\n",
    "                    train_loss_energy_list,\n",
    "                    train_loss_alpha_list,\n",
    "                    train_loss_q0_list,\n",
    "                    train_acc_list,\n",
    "                    train_acc_energy_list,\n",
    "                    train_acc_alpha_list,\n",
    "                    train_acc_q0_list,\n",
    "                    cfg.output_dir,\n",
    "                    title=\"Train Loss and Accuracy per Epoch\")\n",
    "plot_loss_accuracy(val_loss_list,\n",
    "                    val_loss_energy_list,\n",
    "                    val_loss_alpha_list,\n",
    "                    val_loss_q0_list,\n",
    "                    val_acc_list,\n",
    "                    val_acc_energy_list,\n",
    "                    val_acc_alpha_list,\n",
    "                    val_acc_q0_list,\n",
    "                    cfg.output_dir,\n",
    "                    title=\"Validation Loss and Accuracy per Epoch\")"
   ]
  },
  {
   "cell_type": "code",
   "execution_count": 18,
   "metadata": {},
   "outputs": [
    {
     "name": "stdout",
     "output_type": "stream",
     "text": [
      "✅ Saved confusion matrix for energy:\n",
      " - training_output/mambaout_base_plus_rw_ViT_tiny_patch16_224_in1k_g500_bs64_ep1_lr1e-04_ds1008_g500_sched_ReduceLROnPlateau/confusion_plots/confusion_matrix_energy.png\n",
      " - training_output/mambaout_base_plus_rw_ViT_tiny_patch16_224_in1k_g500_bs64_ep1_lr1e-04_ds1008_g500_sched_ReduceLROnPlateau/confusion_plots/confusion_matrix_energy.pdf\n"
     ]
    },
    {
     "data": {
      "image/png": "[encoded data removed]",
      "text/plain": [
       "<Figure size 600x500 with 1 Axes>"
      ]
     },
     "metadata": {},
     "output_type": "display_data"
    },
    {
     "name": "stdout",
     "output_type": "stream",
     "text": [
      "✅ Saved confusion matrix for alpha:\n",
      " - training_output/mambaout_base_plus_rw_ViT_tiny_patch16_224_in1k_g500_bs64_ep1_lr1e-04_ds1008_g500_sched_ReduceLROnPlateau/confusion_plots/confusion_matrix_alpha.png\n",
      " - training_output/mambaout_base_plus_rw_ViT_tiny_patch16_224_in1k_g500_bs64_ep1_lr1e-04_ds1008_g500_sched_ReduceLROnPlateau/confusion_plots/confusion_matrix_alpha.pdf\n"
     ]
    },
    {
     "data": {
      "image/png": "[encoded data removed]",
      "text/plain": [
       "<Figure size 600x500 with 1 Axes>"
      ]
     },
     "metadata": {},
     "output_type": "display_data"
    },
    {
     "name": "stdout",
     "output_type": "stream",
     "text": [
      "✅ Saved confusion matrix for q0:\n",
      " - training_output/mambaout_base_plus_rw_ViT_tiny_patch16_224_in1k_g500_bs64_ep1_lr1e-04_ds1008_g500_sched_ReduceLROnPlateau/confusion_plots/confusion_matrix_q0.png\n",
      " - training_output/mambaout_base_plus_rw_ViT_tiny_patch16_224_in1k_g500_bs64_ep1_lr1e-04_ds1008_g500_sched_ReduceLROnPlateau/confusion_plots/confusion_matrix_q0.pdf\n"
     ]
    },
    {
     "data": {
      "image/png": "[encoded data removed]",
      "text/plain": [
       "<Figure size 600x500 with 1 Axes>"
      ]
     },
     "metadata": {},
     "output_type": "display_data"
    }
   ],
   "source": [
    "plot_confusion_matrices(best_metrics, output_dir=cfg.output_dir, color_map=\"Oranges\")"
   ]
  }
 ],
 "metadata": {
  "kernelspec": {
   "display_name": "pytorch",
   "language": "python",
   "name": "python3"
  },
  "language_info": {
   "codemirror_mode": {
    "name": "ipython",
    "version": 3
   },
   "file_extension": ".py",
   "mimetype": "text/x-python",
   "name": "python",
   "nbconvert_exporter": "python",
   "pygments_lexer": "ipython3",
   "version": "3.9.21"
  }
 },
 "nbformat": 4,
 "nbformat_minor": 2
}
