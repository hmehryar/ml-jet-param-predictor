{
 "cells": [
  {
   "cell_type": "code",
   "execution_count": 1,
   "metadata": {},
   "outputs": [],
   "source": [
    "import os\n",
    "import torch\n",
    "import torch.nn as nn\n",
    "\n",
    "\n",
    "from config import get_config\n",
    "from data.loader import get_dataloaders\n",
    "from models.model import create_model\n",
    "from train_utils.resume import init_resume_state\n",
    "from train_utils.train_epoch import train_one_epoch\n",
    "from train_utils.evaluate import evaluate\n",
    "from train_utils.train_metrics_logger import update_train_logs\n",
    "from train_utils.train_metrics_logger import update_val_logs\n",
    "from train_utils.checkpoint_saver import save_epoch_checkpoint\n",
    "from train_utils.train_metrics_logger import record_and_save_epoch\n",
    "from train_utils.early_stopping import check_early_stopping\n",
    "from train_utils.training_summary import finalize_training_summary\n",
    "from train_utils.training_summary import print_best_model_summary\n",
    "from train_utils.plot_metrics import plot_train_val_metrics\n",
    "from train_utils.plot_metrics import plot_loss_accuracy\n"
   ]
  },
  {
   "cell_type": "code",
   "execution_count": null,
   "metadata": {},
   "outputs": [],
   "source": [
    "cfg=get_config()\n",
    "print(cfg)"
   ]
  },
  {
   "cell_type": "code",
   "execution_count": null,
   "metadata": {},
   "outputs": [],
   "source": [
    "os.makedirs(cfg.output_dir, exist_ok=True)\n",
    "print(f\"[INFO] Saving all outputs to: {cfg.output_dir}\")"
   ]
  },
  {
   "cell_type": "code",
   "execution_count": null,
   "metadata": {},
   "outputs": [],
   "source": [
    "# Set seed, device\n",
    "device = torch.device(\"cuda\" if torch.cuda.is_available() else \"cpu\")\n",
    "print(f\"[INFO] Using device: {device}\")\n",
    "# torch.backends.cudnn.benchmark = True"
   ]
  },
  {
   "cell_type": "code",
   "execution_count": null,
   "metadata": {},
   "outputs": [],
   "source": [
    "# Data\n",
    "train_loader, val_loader, test_loader = get_dataloaders(cfg)"
   ]
  },
  {
   "cell_type": "code",
   "execution_count": null,
   "metadata": {},
   "outputs": [],
   "source": [
    "# Model and optimizer\n",
    "model, optimizer = create_model(cfg.backbone, cfg.input_shape, cfg.learning_rate)\n",
    "model.to(device)"
   ]
  },
  {
   "cell_type": "code",
   "execution_count": null,
   "metadata": {},
   "outputs": [],
   "source": [
    "criterion = {\n",
    "    # 'energy_loss_output': nn.BCELoss(),\n",
    "    'energy_loss_output': nn.BCEWithLogitsLoss(),\n",
    "    'alpha_output': nn.CrossEntropyLoss(),\n",
    "    'q0_output': nn.CrossEntropyLoss()\n",
    "}\n",
    "print(f\"[INFO] Loss functions:{criterion}\")"
   ]
  },
  {
   "cell_type": "code",
   "execution_count": null,
   "metadata": {},
   "outputs": [],
   "source": [
    "print(f\"[INFO] Init Training Trackers\")\n",
    "train_loss_energy_list, train_loss_alpha_list, train_loss_q0_list, train_loss_list = [], [], [],[]\n",
    "train_acc_energy_list, train_acc_alpha_list, train_acc_q0_list, train_acc_list = [], [], [], []\n",
    "\n",
    "print(f\"[INFO] Init Validation Trackers\")\n",
    "val_loss_energy_list, val_loss_alpha_list,val_loss_q0_list,val_loss_list = [], [], [], []\n",
    "val_acc_energy_list, val_acc_alpha_list,val_acc_q0_list ,val_acc_list = [],[],[],[]"
   ]
  },
  {
   "cell_type": "code",
   "execution_count": null,
   "metadata": {},
   "outputs": [],
   "source": [
    "model, optimizer, start_epoch, best_acc, early_stop_counter, best_epoch, best_metrics, training_summary, all_epoch_metrics = init_resume_state( model, optimizer, device,cfg)"
   ]
  },
  {
   "cell_type": "code",
   "execution_count": null,
   "metadata": {},
   "outputs": [],
   "source": [
    "for epoch in range(start_epoch, cfg.epochs):\n",
    "    print(f\"[INFO] Epoch {epoch+1}/{cfg.epochs}\")\n",
    "    train_metrics={}\n",
    "    train_metrics = train_one_epoch(train_loader, model, criterion, optimizer, device)\n",
    "    (train_loss_list,\n",
    "    train_loss_energy_list,\n",
    "    train_loss_alpha_list,\n",
    "    train_loss_q0_list,\n",
    "    train_acc_list,\n",
    "    train_acc_energy_list,\n",
    "    train_acc_alpha_list,\n",
    "    train_acc_q0_list\n",
    "    ) = update_train_logs(\n",
    "        train_metrics,\n",
    "        train_loss_list,\n",
    "        train_loss_energy_list,\n",
    "        train_loss_alpha_list,\n",
    "        train_loss_q0_list,\n",
    "        train_acc_list,\n",
    "        train_acc_energy_list,\n",
    "        train_acc_alpha_list,\n",
    "        train_acc_q0_list\n",
    "    )\n",
    "    val_metrics = evaluate(val_loader, model, criterion, device)\n",
    "    (val_loss_list,\n",
    "    val_loss_energy_list,\n",
    "    val_loss_alpha_list,\n",
    "    val_loss_q0_list,\n",
    "    val_acc_list,\n",
    "    val_acc_energy_list,\n",
    "    val_acc_alpha_list,\n",
    "    val_acc_q0_list,\n",
    "    ) = update_val_logs(\n",
    "        val_metrics,\n",
    "        val_loss_list,\n",
    "        val_loss_energy_list,\n",
    "        val_loss_alpha_list,\n",
    "        val_loss_q0_list,\n",
    "        val_acc_list,\n",
    "        val_acc_energy_list,\n",
    "        val_acc_alpha_list,\n",
    "        val_acc_q0_list,\n",
    "    )\n",
    "    print(f\"[INFO] Epoch {epoch+1}: Energy Acc ={val_metrics['energy']['accuracy']:.4f}, αs Acc = {val_metrics['alpha']['accuracy']:.4f}, Q0 Acc = {val_metrics['q0']['accuracy']:.4f}, Total Acc = {val_metrics['accuracy']:.4f}\")\n",
    "    print(f\"[INFO] Epoch {epoch+1}: Energy Loss ={val_metrics['loss_energy']:.4f}, αs Loss = {val_metrics['loss_alpha']:.4f}, Q0 Loss = {val_metrics['loss_q0']:.4f}, Total Loss = {val_metrics['loss']:.4f}\")\n",
    "    \n",
    "    all_epoch_metrics=record_and_save_epoch(epoch, train_metrics, val_metrics, all_epoch_metrics, cfg.output_dir)\n",
    "    \n",
    "    save_epoch_checkpoint(\n",
    "        epoch=epoch,\n",
    "        model=model,\n",
    "        optimizer=optimizer,\n",
    "        metrics=val_metrics,\n",
    "        output_dir=cfg.output_dir\n",
    "    )\n",
    "\n",
    "    best_acc, best_metrics, best_epoch, early_stop_counter, should_stop = check_early_stopping(\n",
    "        best_acc=best_acc,\n",
    "        best_metrics=best_metrics,\n",
    "        early_stop_counter=early_stop_counter,\n",
    "        best_epoch=best_epoch,\n",
    "        model=model,\n",
    "        optimizer=optimizer,\n",
    "        val_metrics=val_metrics,\n",
    "        output_dir=cfg.output_dir,\n",
    "        patience=cfg.patience,\n",
    "        epoch=epoch\n",
    "    )\n",
    "    \n",
    "    if should_stop:\n",
    "        break\n",
    "    \n",
    "    print(\"=\"*150)\n",
    "    "
   ]
  },
  {
   "cell_type": "code",
   "execution_count": null,
   "metadata": {},
   "outputs": [],
   "source": [
    "finalize_training_summary(\n",
    "    summary=training_summary,\n",
    "    best_epoch=best_epoch,\n",
    "    best_acc=best_acc,\n",
    "    best_metrics=best_metrics,\n",
    "    output_dir=cfg.output_dir\n",
    ")\n",
    "print_best_model_summary(\n",
    "    best_epoch=best_epoch,\n",
    "    best_acc=best_acc,\n",
    "    best_metrics=best_metrics\n",
    ")"
   ]
  },
  {
   "cell_type": "code",
   "execution_count": null,
   "metadata": {},
   "outputs": [],
   "source": [
    "plot_train_val_metrics(train_loss_list, val_loss_list, train_acc_list, val_acc_list, cfg.output_dir)\n",
    "plot_loss_accuracy(train_loss_list,\n",
    "                    train_loss_energy_list,\n",
    "                    train_loss_alpha_list,\n",
    "                    train_loss_q0_list,\n",
    "                    train_acc_list,\n",
    "                    train_acc_energy_list,\n",
    "                    train_acc_alpha_list,\n",
    "                    train_acc_q0_list,\n",
    "                    cfg.output_dir,\n",
    "                    title=\"Train Loss and Accuracy per Epoch\")\n",
    "plot_loss_accuracy(val_loss_list,\n",
    "                    val_loss_energy_list,\n",
    "                    val_loss_alpha_list,\n",
    "                    val_loss_q0_list,\n",
    "                    val_acc_list,\n",
    "                    val_acc_energy_list,\n",
    "                    val_acc_alpha_list,\n",
    "                    val_acc_q0_list,\n",
    "                    cfg.output_dir,\n",
    "                    title=\"Validation Loss and Accuracy per Epoch\")"
   ]
  }
 ],
 "metadata": {
  "kernelspec": {
   "display_name": "pytorch",
   "language": "python",
   "name": "python3"
  },
  "language_info": {
   "codemirror_mode": {
    "name": "ipython",
    "version": 3
   },
   "file_extension": ".py",
   "mimetype": "text/x-python",
   "name": "python",
   "nbconvert_exporter": "python",
   "pygments_lexer": "ipython3",
   "version": "3.9.21"
  }
 },
 "nbformat": 4,
 "nbformat_minor": 2
}
